{
  "nbformat": 4,
  "nbformat_minor": 0,
  "metadata": {
    "colab": {
      "name": "loan_approval_model.ipynb",
      "version": "0.3.2",
      "provenance": [],
      "collapsed_sections": [],
      "toc_visible": true,
      "include_colab_link": true
    },
    "kernelspec": {
      "name": "python3",
      "display_name": "Python 3"
    }
  },
  "cells": [
    {
      "cell_type": "markdown",
      "metadata": {
        "id": "view-in-github",
        "colab_type": "text"
      },
      "source": [
        "[View in Colaboratory](https://colab.research.google.com/github/HeshamMahrous/lending_club/blob/master/loan_approval_model.ipynb)"
      ]
    },
    {
      "metadata": {
        "id": "iIFiB8eq3dyH",
        "colab_type": "text"
      },
      "cell_type": "markdown",
      "source": [
        "<center> <h1>Baseline: Loan Approval Modeling</h1> </center>\n",
        "<center> @Authors: Hesham Mahrous, Mahdi Ghelichi</center>\n",
        "\n",
        "This ipython notebook is sort of a trial to experiement with some data we collected from [Lending Club](https://www.lendingclub.com/info/download-data.action). This work also intends to replicate the results of this paper called [Demystifying the workings of Lending Club](http://cs229.stanford.edu/proj2016spr/report/039.pdf). \n",
        "\n",
        "Using different sorts of supervised learning techniques, the paper shows highly accurate models, with an F-measure of up to 98%, that predict if an application will be approved. However, we think these results can be highly biased and irrelevant to our work with Flexiti, but it is a good starting point. This paper also built a model that determines a risk optimized interest rate for every approved loans. They provided an analysis of the performance of different machine learning models applied to their dataset. The data they used is a comprehensive dataset of all applications of peer-to-peer loans on the Lending Club platform between 2007 and 2018. \n",
        "\n",
        "Based on an intial view of this dataset taking into account our initial meetings we had with Flexiti it seems like this dataset is close enough with a certain degree of similarity and so to be used to build a baseline method that we can replicate for Flexiti"
      ]
    },
    {
      "metadata": {
        "id": "8NBNaPYnfUw3",
        "colab_type": "text"
      },
      "cell_type": "markdown",
      "source": [
        "### Download data From public Git:\n",
        "\n",
        "  Because it is very difficult to make collab read from a shared folder on google drive we decided to throw our public data that we will use for experimenting in a bit bucket repo. The following line will clone the data repo into your collab machine so that it can be accessed by anyone who shares this document. "
      ]
    },
    {
      "metadata": {
        "id": "mL5IN5YJfpsJ",
        "colab_type": "code",
        "colab": {
          "base_uri": "https://localhost:8080/",
          "height": 190
        },
        "outputId": "6f9b9f82-1376-4938-eb64-a9c26312f87f"
      },
      "cell_type": "code",
      "source": [
        "! git clone https://heshammahrous@bitbucket.org/heshammahrous/loan_data.git\n",
        "import os\n",
        "arr = os.listdir('/content/loan_data/')\n",
        "arr"
      ],
      "execution_count": 0,
      "outputs": [
        {
          "output_type": "stream",
          "text": [
            "fatal: destination path 'loan_data' already exists and is not an empty directory.\r\n"
          ],
          "name": "stdout"
        },
        {
          "output_type": "execute_result",
          "data": {
            "text/plain": [
              "['LoanStats_securev1_2017Q3.csv',\n",
              " 'LoanStats_securev1_2017Q4.csv',\n",
              " 'LoanStats_securev1_2017Q1.csv',\n",
              " 'LoanStats_securev1_2018Q1.csv',\n",
              " 'loan.csv',\n",
              " 'LoanStats_securev1_2018Q2.csv',\n",
              " '.git',\n",
              " 'LoanStats_securev1_2017Q2.csv']"
            ]
          },
          "metadata": {
            "tags": []
          },
          "execution_count": 34
        }
      ]
    },
    {
      "metadata": {
        "id": "wQElj20P8J3r",
        "colab_type": "text"
      },
      "cell_type": "markdown",
      "source": [
        "### Imports and Library Installs \n",
        "  In this section the imports and the library installs are added here.\n",
        "To install a required library not available in enviroment you can use pip by doing `!pip install something`"
      ]
    },
    {
      "metadata": {
        "id": "0yuebLYi0vyY",
        "colab_type": "code",
        "colab": {}
      },
      "cell_type": "code",
      "source": [
        "import numpy as np\n",
        "from pandas import read_csv\n",
        "import pandas as pd\n",
        "import sklearn\n",
        "import os\n",
        "import matplotlib.pyplot as plt\n",
        "%matplotlib inline\n",
        "import seaborn as sns\n",
        "import sys\n",
        "from sklearn.preprocessing import LabelEncoder\n",
        "from sklearn.metrics import confusion_matrix\n",
        "from sklearn.metrics import classification_report\n",
        "from keras.utils import np_utils\n",
        "from sklearn.preprocessing import LabelEncoder\n",
        "from dateutil.parser import parse\n",
        "import datetime"
      ],
      "execution_count": 0,
      "outputs": []
    },
    {
      "metadata": {
        "id": "upllSlca8n1_",
        "colab_type": "text"
      },
      "cell_type": "markdown",
      "source": [
        "# The DataSet\n",
        "\n",
        "  We found some dataset from [Kaggle](https://www.kaggle.com/wendykan/lending-club-loan-data/version/1#) which originated from the same source as mentioned above, but Lending Club has the most recent dataset. In the next couple of lines we will investigate at first the missing columns between the kaggle competition data and Q1 to Q4 of 2017, Q1 and Q2 of 2018 which we downloaded from lending club website. The data they provide has accepted loans and rejected loans. The accepted loans has different sets of loan status indicating whether the loans were paid on time or not. In this work we want to build a model that can predict before hand whether the browers will pay their loans on time, likely to delay in their payements, or default on their payments. \n",
        "\n",
        "In this section we will load the data, explore the missing data, and look into the unique values of the data, we will also explain the symantic meaning of the data and hand pick the important features to be used in the machine learning model. We will also clean the data and split the current in progress loans from the completed ones.  "
      ]
    },
    {
      "metadata": {
        "id": "04YxmF2AqvcQ",
        "colab_type": "text"
      },
      "cell_type": "markdown",
      "source": [
        "## Missing Data and Columns: "
      ]
    },
    {
      "metadata": {
        "id": "buNsAqhh1btm",
        "colab_type": "code",
        "colab": {
          "base_uri": "https://localhost:8080/",
          "height": 207
        },
        "outputId": "d76ff9fe-3184-4975-aa9c-22a57633fae2"
      },
      "cell_type": "code",
      "source": [
        "## Read the CSV data \n",
        "q1_17 = read_csv('/content/loan_data/LoanStats_securev1_2017Q1.csv',header = 1)\n",
        "q1_17 = q1_17[:-2]\n",
        "q2_17 = read_csv('/content/loan_data/LoanStats_securev1_2017Q2.csv', header=1)\n",
        "q2_17 = q2_17[:-2]\n",
        "q3_17 = read_csv('/content/loan_data/LoanStats_securev1_2017Q3.csv',header = 1)\n",
        "q3_17 = q3_17[:-2]\n",
        "q4_17 = read_csv('/content/loan_data/LoanStats_securev1_2017Q4.csv',header = 1)\n",
        "q4_17 = q4_17[:-2]\n",
        "q1_18 = read_csv('/content/loan_data/LoanStats_securev1_2018Q1.csv',header = 1)\n",
        "q1_18 = q1_18[:-2]\n",
        "q2_18 = read_csv('/content/loan_data/LoanStats_securev1_2018Q2.csv',header = 1)\n",
        "q2_18 = q2_18[:-2]"
      ],
      "execution_count": 0,
      "outputs": [
        {
          "output_type": "stream",
          "text": [
            "/usr/local/lib/python3.6/dist-packages/IPython/core/interactiveshell.py:2718: DtypeWarning: Columns (0,118) have mixed types. Specify dtype option on import or set low_memory=False.\n",
            "  interactivity=interactivity, compiler=compiler, result=result)\n",
            "/usr/local/lib/python3.6/dist-packages/IPython/core/interactiveshell.py:2718: DtypeWarning: Columns (0) have mixed types. Specify dtype option on import or set low_memory=False.\n",
            "  interactivity=interactivity, compiler=compiler, result=result)\n",
            "/usr/local/lib/python3.6/dist-packages/IPython/core/interactiveshell.py:2718: DtypeWarning: Columns (0,129,130,131,134,135,136,139) have mixed types. Specify dtype option on import or set low_memory=False.\n",
            "  interactivity=interactivity, compiler=compiler, result=result)\n",
            "/usr/local/lib/python3.6/dist-packages/IPython/core/interactiveshell.py:2718: DtypeWarning: Columns (0,129,130,131,134,135,136,139,145,146,147) have mixed types. Specify dtype option on import or set low_memory=False.\n",
            "  interactivity=interactivity, compiler=compiler, result=result)\n",
            "/usr/local/lib/python3.6/dist-packages/IPython/core/interactiveshell.py:2718: DtypeWarning: Columns (0,145,146,147) have mixed types. Specify dtype option on import or set low_memory=False.\n",
            "  interactivity=interactivity, compiler=compiler, result=result)\n"
          ],
          "name": "stderr"
        }
      ]
    },
    {
      "metadata": {
        "id": "LFS20M2q-7v2",
        "colab_type": "code",
        "colab": {
          "base_uri": "https://localhost:8080/",
          "height": 1071
        },
        "outputId": "91dbd962-ce26-4ddf-d13f-7ee60487f097"
      },
      "cell_type": "code",
      "source": [
        "q1_17.isnull().sum()"
      ],
      "execution_count": 0,
      "outputs": [
        {
          "output_type": "execute_result",
          "data": {
            "text/plain": [
              "id                                                0\n",
              "member_id                                     96779\n",
              "loan_amnt                                         0\n",
              "funded_amnt                                       0\n",
              "funded_amnt_inv                                   0\n",
              "term                                              0\n",
              "int_rate                                          0\n",
              "installment                                       0\n",
              "grade                                             0\n",
              "sub_grade                                         0\n",
              "emp_title                                      6892\n",
              "emp_length                                     6792\n",
              "home_ownership                                    0\n",
              "annual_inc                                        0\n",
              "verification_status                               0\n",
              "issue_d                                           0\n",
              "loan_status                                       0\n",
              "pymnt_plan                                        0\n",
              "url                                               0\n",
              "desc                                          96779\n",
              "purpose                                           0\n",
              "title                                             0\n",
              "zip_code                                          1\n",
              "addr_state                                        0\n",
              "dti                                              33\n",
              "delinq_2yrs                                       0\n",
              "earliest_cr_line                                  0\n",
              "fico_range_low                                    0\n",
              "fico_range_high                                   0\n",
              "inq_last_6mths                                    0\n",
              "                                              ...  \n",
              "sec_app_open_acc                              95754\n",
              "sec_app_revol_util                            95760\n",
              "sec_app_open_act_il                           95754\n",
              "sec_app_num_rev_accts                         95754\n",
              "sec_app_chargeoff_within_12_mths              95754\n",
              "sec_app_collections_12_mths_ex_med            95754\n",
              "sec_app_mths_since_last_major_derog           96423\n",
              "hardship_flag                                     0\n",
              "hardship_type                                 96262\n",
              "hardship_reason                               96262\n",
              "hardship_status                               96262\n",
              "deferral_term                                 96262\n",
              "hardship_amount                               96262\n",
              "hardship_start_date                           96262\n",
              "hardship_end_date                             96262\n",
              "payment_plan_start_date                       96262\n",
              "hardship_length                               96262\n",
              "hardship_dpd                                  96262\n",
              "hardship_loan_status                          96262\n",
              "orig_projected_additional_accrued_interest    96352\n",
              "hardship_payoff_balance_amount                96262\n",
              "hardship_last_payment_amount                  96262\n",
              "disbursement_method                               0\n",
              "debt_settlement_flag                              0\n",
              "debt_settlement_flag_date                     96292\n",
              "settlement_status                             96292\n",
              "settlement_date                               96292\n",
              "settlement_amount                             96292\n",
              "settlement_percentage                         96292\n",
              "settlement_term                               96292\n",
              "Length: 151, dtype: int64"
            ]
          },
          "metadata": {
            "tags": []
          },
          "execution_count": 15
        }
      ]
    },
    {
      "metadata": {
        "id": "xYqNbB_qhfIe",
        "colab_type": "code",
        "colab": {
          "base_uri": "https://localhost:8080/",
          "height": 1071
        },
        "outputId": "0b958a8e-cb43-40cb-9e6c-4e55769dc02c"
      },
      "cell_type": "code",
      "source": [
        "q2_17.isnull().sum()"
      ],
      "execution_count": 0,
      "outputs": [
        {
          "output_type": "execute_result",
          "data": {
            "text/plain": [
              "id                                                 0\n",
              "member_id                                     105451\n",
              "loan_amnt                                          0\n",
              "funded_amnt                                        0\n",
              "funded_amnt_inv                                    0\n",
              "term                                               0\n",
              "int_rate                                           0\n",
              "installment                                        0\n",
              "grade                                              0\n",
              "sub_grade                                          0\n",
              "emp_title                                       6782\n",
              "emp_length                                      6697\n",
              "home_ownership                                     0\n",
              "annual_inc                                         0\n",
              "verification_status                                0\n",
              "issue_d                                            0\n",
              "loan_status                                        0\n",
              "pymnt_plan                                         0\n",
              "url                                                0\n",
              "desc                                          105451\n",
              "purpose                                            0\n",
              "title                                              0\n",
              "zip_code                                           0\n",
              "addr_state                                         0\n",
              "dti                                               75\n",
              "delinq_2yrs                                        0\n",
              "earliest_cr_line                                   0\n",
              "fico_range_low                                     0\n",
              "fico_range_high                                    0\n",
              "inq_last_6mths                                     0\n",
              "                                               ...  \n",
              "sec_app_open_acc                               98645\n",
              "sec_app_revol_util                             98722\n",
              "sec_app_open_act_il                            98645\n",
              "sec_app_num_rev_accts                          98645\n",
              "sec_app_chargeoff_within_12_mths               98645\n",
              "sec_app_collections_12_mths_ex_med             98645\n",
              "sec_app_mths_since_last_major_derog           103117\n",
              "hardship_flag                                      0\n",
              "hardship_type                                 105023\n",
              "hardship_reason                               105023\n",
              "hardship_status                               105023\n",
              "deferral_term                                 105023\n",
              "hardship_amount                               105023\n",
              "hardship_start_date                           105023\n",
              "hardship_end_date                             105023\n",
              "payment_plan_start_date                       105023\n",
              "hardship_length                               105023\n",
              "hardship_dpd                                  105023\n",
              "hardship_loan_status                          105023\n",
              "orig_projected_additional_accrued_interest    105087\n",
              "hardship_payoff_balance_amount                105023\n",
              "hardship_last_payment_amount                  105023\n",
              "disbursement_method                                0\n",
              "debt_settlement_flag                               0\n",
              "debt_settlement_flag_date                     105153\n",
              "settlement_status                             105153\n",
              "settlement_date                               105153\n",
              "settlement_amount                             105153\n",
              "settlement_percentage                         105153\n",
              "settlement_term                               105153\n",
              "Length: 151, dtype: int64"
            ]
          },
          "metadata": {
            "tags": []
          },
          "execution_count": 16
        }
      ]
    },
    {
      "metadata": {
        "id": "mljPeZtg_N2n",
        "colab_type": "code",
        "colab": {
          "base_uri": "https://localhost:8080/",
          "height": 1071
        },
        "outputId": "94b39405-0335-4c55-b315-9789db7a0d48"
      },
      "cell_type": "code",
      "source": [
        "q3_17.isnull().sum()"
      ],
      "execution_count": 0,
      "outputs": [
        {
          "output_type": "execute_result",
          "data": {
            "text/plain": [
              "id                                                 0\n",
              "member_id                                     122701\n",
              "loan_amnt                                          0\n",
              "funded_amnt                                        0\n",
              "funded_amnt_inv                                    0\n",
              "term                                               0\n",
              "int_rate                                           0\n",
              "installment                                        0\n",
              "grade                                              0\n",
              "sub_grade                                          0\n",
              "emp_title                                       8801\n",
              "emp_length                                      8660\n",
              "home_ownership                                     0\n",
              "annual_inc                                         0\n",
              "verification_status                                0\n",
              "issue_d                                            0\n",
              "loan_status                                        0\n",
              "pymnt_plan                                         0\n",
              "url                                                0\n",
              "desc                                          122701\n",
              "purpose                                            0\n",
              "title                                              0\n",
              "zip_code                                           0\n",
              "addr_state                                         0\n",
              "dti                                              184\n",
              "delinq_2yrs                                        0\n",
              "earliest_cr_line                                   0\n",
              "fico_range_low                                     0\n",
              "fico_range_high                                    0\n",
              "inq_last_6mths                                     0\n",
              "                                               ...  \n",
              "sec_app_open_acc                              108707\n",
              "sec_app_revol_util                            108912\n",
              "sec_app_open_act_il                           108707\n",
              "sec_app_num_rev_accts                         108707\n",
              "sec_app_chargeoff_within_12_mths              108707\n",
              "sec_app_collections_12_mths_ex_med            108707\n",
              "sec_app_mths_since_last_major_derog           117850\n",
              "hardship_flag                                      0\n",
              "hardship_type                                 122511\n",
              "hardship_reason                               122511\n",
              "hardship_status                               122511\n",
              "deferral_term                                 122511\n",
              "hardship_amount                               122511\n",
              "hardship_start_date                           122511\n",
              "hardship_end_date                             122511\n",
              "payment_plan_start_date                       122511\n",
              "hardship_length                               122511\n",
              "hardship_dpd                                  122511\n",
              "hardship_loan_status                          122511\n",
              "orig_projected_additional_accrued_interest    122534\n",
              "hardship_payoff_balance_amount                122511\n",
              "hardship_last_payment_amount                  122511\n",
              "disbursement_method                                0\n",
              "debt_settlement_flag                               0\n",
              "debt_settlement_flag_date                     122523\n",
              "settlement_status                             122523\n",
              "settlement_date                               122523\n",
              "settlement_amount                             122523\n",
              "settlement_percentage                         122523\n",
              "settlement_term                               122523\n",
              "Length: 151, dtype: int64"
            ]
          },
          "metadata": {
            "tags": []
          },
          "execution_count": 17
        }
      ]
    },
    {
      "metadata": {
        "id": "5I16uPfk_OA5",
        "colab_type": "code",
        "colab": {
          "base_uri": "https://localhost:8080/",
          "height": 1071
        },
        "outputId": "68361a67-4647-494b-bbfd-1f5db09d3dc2"
      },
      "cell_type": "code",
      "source": [
        "q4_17.isnull().sum()"
      ],
      "execution_count": 0,
      "outputs": [
        {
          "output_type": "execute_result",
          "data": {
            "text/plain": [
              "id                                                 0\n",
              "member_id                                     118648\n",
              "loan_amnt                                          0\n",
              "funded_amnt                                        0\n",
              "funded_amnt_inv                                    0\n",
              "term                                               0\n",
              "int_rate                                           0\n",
              "installment                                        0\n",
              "grade                                              0\n",
              "sub_grade                                          0\n",
              "emp_title                                       9869\n",
              "emp_length                                      9722\n",
              "home_ownership                                     0\n",
              "annual_inc                                         0\n",
              "verification_status                                0\n",
              "issue_d                                            0\n",
              "loan_status                                        0\n",
              "pymnt_plan                                         0\n",
              "url                                                0\n",
              "desc                                          118648\n",
              "purpose                                            0\n",
              "title                                              0\n",
              "zip_code                                           0\n",
              "addr_state                                         0\n",
              "dti                                              222\n",
              "delinq_2yrs                                        0\n",
              "earliest_cr_line                                   0\n",
              "fico_range_low                                     0\n",
              "fico_range_high                                    0\n",
              "inq_last_6mths                                     0\n",
              "                                               ...  \n",
              "sec_app_open_acc                              101437\n",
              "sec_app_revol_util                            101789\n",
              "sec_app_open_act_il                           101437\n",
              "sec_app_num_rev_accts                         101437\n",
              "sec_app_chargeoff_within_12_mths              101437\n",
              "sec_app_collections_12_mths_ex_med            101437\n",
              "sec_app_mths_since_last_major_derog           112624\n",
              "hardship_flag                                      0\n",
              "hardship_type                                 118644\n",
              "hardship_reason                               118644\n",
              "hardship_status                               118644\n",
              "deferral_term                                 118644\n",
              "hardship_amount                               118644\n",
              "hardship_start_date                           118644\n",
              "hardship_end_date                             118644\n",
              "payment_plan_start_date                       118644\n",
              "hardship_length                               118644\n",
              "hardship_dpd                                  118644\n",
              "hardship_loan_status                          118644\n",
              "orig_projected_additional_accrued_interest    118645\n",
              "hardship_payoff_balance_amount                118644\n",
              "hardship_last_payment_amount                  118644\n",
              "disbursement_method                                0\n",
              "debt_settlement_flag                               0\n",
              "debt_settlement_flag_date                     118614\n",
              "settlement_status                             118614\n",
              "settlement_date                               118614\n",
              "settlement_amount                             118614\n",
              "settlement_percentage                         118614\n",
              "settlement_term                               118614\n",
              "Length: 151, dtype: int64"
            ]
          },
          "metadata": {
            "tags": []
          },
          "execution_count": 18
        }
      ]
    },
    {
      "metadata": {
        "id": "NtAQNihQ_OLU",
        "colab_type": "code",
        "colab": {
          "base_uri": "https://localhost:8080/",
          "height": 1071
        },
        "outputId": "a44aeecf-6e6a-44d5-c100-a3f0d8b7ad40"
      },
      "cell_type": "code",
      "source": [
        "q1_18.isnull().sum()"
      ],
      "execution_count": 0,
      "outputs": [
        {
          "output_type": "execute_result",
          "data": {
            "text/plain": [
              "id                                                 0\n",
              "member_id                                     107864\n",
              "loan_amnt                                          0\n",
              "funded_amnt                                        0\n",
              "funded_amnt_inv                                    0\n",
              "term                                               0\n",
              "int_rate                                           0\n",
              "installment                                        0\n",
              "grade                                              0\n",
              "sub_grade                                          0\n",
              "emp_title                                       9613\n",
              "emp_length                                      9428\n",
              "home_ownership                                     0\n",
              "annual_inc                                         0\n",
              "verification_status                                0\n",
              "issue_d                                            0\n",
              "loan_status                                        0\n",
              "pymnt_plan                                         0\n",
              "url                                                0\n",
              "desc                                          107864\n",
              "purpose                                            0\n",
              "title                                              0\n",
              "zip_code                                           0\n",
              "addr_state                                         0\n",
              "dti                                              262\n",
              "delinq_2yrs                                        0\n",
              "earliest_cr_line                                   0\n",
              "fico_range_low                                     0\n",
              "fico_range_high                                    0\n",
              "inq_last_6mths                                     0\n",
              "                                               ...  \n",
              "sec_app_open_acc                               91533\n",
              "sec_app_revol_util                             91843\n",
              "sec_app_open_act_il                            91533\n",
              "sec_app_num_rev_accts                          91533\n",
              "sec_app_chargeoff_within_12_mths               91533\n",
              "sec_app_collections_12_mths_ex_med             91533\n",
              "sec_app_mths_since_last_major_derog           102437\n",
              "hardship_flag                                      0\n",
              "hardship_type                                 107864\n",
              "hardship_reason                               107864\n",
              "hardship_status                               107864\n",
              "deferral_term                                 107864\n",
              "hardship_amount                               107864\n",
              "hardship_start_date                           107864\n",
              "hardship_end_date                             107864\n",
              "payment_plan_start_date                       107864\n",
              "hardship_length                               107864\n",
              "hardship_dpd                                  107864\n",
              "hardship_loan_status                          107864\n",
              "orig_projected_additional_accrued_interest    107864\n",
              "hardship_payoff_balance_amount                107864\n",
              "hardship_last_payment_amount                  107864\n",
              "disbursement_method                                0\n",
              "debt_settlement_flag                               0\n",
              "debt_settlement_flag_date                     107858\n",
              "settlement_status                             107858\n",
              "settlement_date                               107858\n",
              "settlement_amount                             107858\n",
              "settlement_percentage                         107858\n",
              "settlement_term                               107858\n",
              "Length: 151, dtype: int64"
            ]
          },
          "metadata": {
            "tags": []
          },
          "execution_count": 17
        }
      ]
    },
    {
      "metadata": {
        "id": "mi7_bvlv_OST",
        "colab_type": "code",
        "colab": {
          "base_uri": "https://localhost:8080/",
          "height": 1071
        },
        "outputId": "f1f2c0a4-5812-41ce-957a-25119514ac6a"
      },
      "cell_type": "code",
      "source": [
        "q2_18.isnull().sum()"
      ],
      "execution_count": 0,
      "outputs": [
        {
          "output_type": "execute_result",
          "data": {
            "text/plain": [
              "id                                                 0\n",
              "member_id                                     130772\n",
              "loan_amnt                                          0\n",
              "funded_amnt                                        0\n",
              "funded_amnt_inv                                    0\n",
              "term                                               0\n",
              "int_rate                                           0\n",
              "installment                                        0\n",
              "grade                                              0\n",
              "sub_grade                                          0\n",
              "emp_title                                      10662\n",
              "emp_length                                     10468\n",
              "home_ownership                                     0\n",
              "annual_inc                                         0\n",
              "verification_status                                0\n",
              "issue_d                                            0\n",
              "loan_status                                        0\n",
              "pymnt_plan                                         0\n",
              "url                                                0\n",
              "desc                                          130772\n",
              "purpose                                            0\n",
              "title                                              0\n",
              "zip_code                                           0\n",
              "addr_state                                         0\n",
              "dti                                              326\n",
              "delinq_2yrs                                        0\n",
              "earliest_cr_line                                   0\n",
              "fico_range_low                                     0\n",
              "fico_range_high                                    0\n",
              "inq_last_6mths                                     0\n",
              "                                               ...  \n",
              "sec_app_open_acc                              112685\n",
              "sec_app_revol_util                            113004\n",
              "sec_app_open_act_il                           112685\n",
              "sec_app_num_rev_accts                         112685\n",
              "sec_app_chargeoff_within_12_mths              112685\n",
              "sec_app_collections_12_mths_ex_med            112685\n",
              "sec_app_mths_since_last_major_derog           124588\n",
              "hardship_flag                                      0\n",
              "hardship_type                                 130772\n",
              "hardship_reason                               130772\n",
              "hardship_status                               130772\n",
              "deferral_term                                 130772\n",
              "hardship_amount                               130772\n",
              "hardship_start_date                           130772\n",
              "hardship_end_date                             130772\n",
              "payment_plan_start_date                       130772\n",
              "hardship_length                               130772\n",
              "hardship_dpd                                  130772\n",
              "hardship_loan_status                          130772\n",
              "orig_projected_additional_accrued_interest    130772\n",
              "hardship_payoff_balance_amount                130772\n",
              "hardship_last_payment_amount                  130772\n",
              "disbursement_method                                0\n",
              "debt_settlement_flag                               0\n",
              "debt_settlement_flag_date                     130772\n",
              "settlement_status                             130772\n",
              "settlement_date                               130772\n",
              "settlement_amount                             130772\n",
              "settlement_percentage                         130772\n",
              "settlement_term                               130772\n",
              "Length: 151, dtype: int64"
            ]
          },
          "metadata": {
            "tags": []
          },
          "execution_count": 19
        }
      ]
    },
    {
      "metadata": {
        "id": "83iM6LEl-4Ml",
        "colab_type": "text"
      },
      "cell_type": "markdown",
      "source": [
        "  As we can see there are alot of missing data that we can not rely on. Additionaly there seems to have some missing columns from the most recent data which are also missing in the old data. In the next section we created a function that returns these missing columns between the old and the new data.\n",
        "\n",
        "  As we can see next there is no missing columns between the years 2017 and 2018, but more features was added from the old data to the new data. Ideally a good model should perform well with the least available data possible, for this reason we will remove the newly added data. Also, we are going to remove the columns with lots of missing data. "
      ]
    },
    {
      "metadata": {
        "id": "-O5xI06m_Oac",
        "colab_type": "code",
        "colab": {
          "base_uri": "https://localhost:8080/",
          "height": 102
        },
        "outputId": "074bf5fb-8a2a-45ac-d7ae-1eed5a1a1342"
      },
      "cell_type": "code",
      "source": [
        "def get_missing_columns(df1, df2): \n",
        "  '''\n",
        "  This function takes two dataframes and returns a list of missing columns in \n",
        "  both of them.\n",
        "  '''\n",
        "  colnames1 = set(df1.columns)\n",
        "  colnames2 = set(df2.columns)\n",
        "  missings = colnames1 ^ colnames2 # XOR\n",
        "  return set(missings)\n",
        "\n",
        "print (get_missing_columns(q1_17, q2_17))\n",
        "print (get_missing_columns(q2_17, q3_17))\n",
        "print (get_missing_columns(q3_17, q4_17))\n",
        "print (get_missing_columns(q4_17, q1_18))\n",
        "print (get_missing_columns(q1_18, q2_18))"
      ],
      "execution_count": 0,
      "outputs": [
        {
          "output_type": "stream",
          "text": [
            "set()\n",
            "set()\n",
            "set()\n",
            "set()\n",
            "set()\n"
          ],
          "name": "stdout"
        }
      ]
    },
    {
      "metadata": {
        "id": "k7h-gyTe_9Wu",
        "colab_type": "text"
      },
      "cell_type": "markdown",
      "source": [
        "  After removing the newly added columns in the data we calculated a percentage of missing data in the columns. You can clearly find that there are alot of columns that are not populated with any data. "
      ]
    },
    {
      "metadata": {
        "id": "K86jDifn0GLR",
        "colab_type": "code",
        "colab": {
          "base_uri": "https://localhost:8080/",
          "height": 5151
        },
        "outputId": "353d6689-02c5-47b9-aa21-c6411ff23e00"
      },
      "cell_type": "code",
      "source": [
        "df_list = [q1_17, q2_17, q3_17, q4_17, q1_18, q2_18]\n",
        "data_set = pd.concat(df_list)\n",
        "percent_missing_columns = data_set.isnull().sum()*100.0/len(data_set)\n",
        "\n",
        "columns = percent_missing_columns.index.values \n",
        "for col in columns: \n",
        "  print (col, percent_missing_columns[col])\n",
        "  print ('')"
      ],
      "execution_count": 0,
      "outputs": [
        {
          "output_type": "stream",
          "text": [
            "id 0.0\n",
            "\n",
            "member_id 100.0\n",
            "\n",
            "loan_amnt 0.0\n",
            "\n",
            "funded_amnt 0.0\n",
            "\n",
            "funded_amnt_inv 0.0\n",
            "\n",
            "term 0.0\n",
            "\n",
            "int_rate 0.0\n",
            "\n",
            "installment 0.0\n",
            "\n",
            "grade 0.0\n",
            "\n",
            "sub_grade 0.0\n",
            "\n",
            "emp_title 7.712964388059483\n",
            "\n",
            "emp_length 7.588077072477152\n",
            "\n",
            "home_ownership 0.0\n",
            "\n",
            "annual_inc 0.0\n",
            "\n",
            "verification_status 0.0\n",
            "\n",
            "issue_d 0.0\n",
            "\n",
            "loan_status 0.0\n",
            "\n",
            "pymnt_plan 0.0\n",
            "\n",
            "url 0.0\n",
            "\n",
            "desc 100.0\n",
            "\n",
            "purpose 0.0\n",
            "\n",
            "title 0.0\n",
            "\n",
            "zip_code 0.00014658135631729\n",
            "\n",
            "addr_state 0.0\n",
            "\n",
            "dti 0.1615326546616536\n",
            "\n",
            "delinq_2yrs 0.0\n",
            "\n",
            "earliest_cr_line 0.0\n",
            "\n",
            "fico_range_low 0.0\n",
            "\n",
            "fico_range_high 0.0\n",
            "\n",
            "inq_last_6mths 0.0\n",
            "\n",
            "mths_since_last_delinq 52.145877765806965\n",
            "\n",
            "mths_since_last_record 84.1659887278937\n",
            "\n",
            "open_acc 0.0\n",
            "\n",
            "pub_rec 0.0\n",
            "\n",
            "revol_bal 0.0\n",
            "\n",
            "revol_util 0.11008259859428479\n",
            "\n",
            "total_acc 0.0\n",
            "\n",
            "initial_list_status 0.0\n",
            "\n",
            "out_prncp 0.0\n",
            "\n",
            "out_prncp_inv 0.0\n",
            "\n",
            "total_pymnt 0.0\n",
            "\n",
            "total_pymnt_inv 0.0\n",
            "\n",
            "total_rec_prncp 0.0\n",
            "\n",
            "total_rec_int 0.0\n",
            "\n",
            "total_rec_late_fee 0.0\n",
            "\n",
            "recoveries 0.0\n",
            "\n",
            "collection_recovery_fee 0.0\n",
            "\n",
            "last_pymnt_d 4.929824175663097\n",
            "\n",
            "last_pymnt_amnt 0.0\n",
            "\n",
            "next_pymnt_d 13.614329793393578\n",
            "\n",
            "last_credit_pull_d 0.0014658135631729\n",
            "\n",
            "last_fico_range_high 0.0\n",
            "\n",
            "last_fico_range_low 0.0\n",
            "\n",
            "collections_12_mths_ex_med 0.0\n",
            "\n",
            "mths_since_last_major_derog 74.43122769214983\n",
            "\n",
            "policy_code 0.0\n",
            "\n",
            "application_type 0.0\n",
            "\n",
            "annual_inc_joint 88.73624883651048\n",
            "\n",
            "dti_joint 88.73624883651048\n",
            "\n",
            "verification_status_joint 88.8813643792646\n",
            "\n",
            "acc_now_delinq 0.0\n",
            "\n",
            "tot_coll_amt 0.0\n",
            "\n",
            "tot_cur_bal 0.0\n",
            "\n",
            "open_acc_6m 0.0\n",
            "\n",
            "open_act_il 0.0\n",
            "\n",
            "open_il_12m 0.0\n",
            "\n",
            "open_il_24m 0.0\n",
            "\n",
            "mths_since_rcnt_il 3.290311705254209\n",
            "\n",
            "total_bal_il 0.0\n",
            "\n",
            "il_util 14.926379513789641\n",
            "\n",
            "open_rv_12m 0.0\n",
            "\n",
            "open_rv_24m 0.0\n",
            "\n",
            "max_bal_bc 0.0\n",
            "\n",
            "all_util 0.0190555763212477\n",
            "\n",
            "total_rev_hi_lim 0.0\n",
            "\n",
            "inq_fi 0.0\n",
            "\n",
            "total_cu_tl 0.0\n",
            "\n",
            "inq_last_12m 0.0\n",
            "\n",
            "acc_open_past_24mths 0.0\n",
            "\n",
            "avg_cur_bal 0.00483718475847057\n",
            "\n",
            "bc_open_to_buy 1.3183527187177062\n",
            "\n",
            "bc_util 1.3633531951071143\n",
            "\n",
            "chargeoff_within_12_mths 0.0\n",
            "\n",
            "delinq_amnt 0.0\n",
            "\n",
            "mo_sin_old_il_acct 3.290311705254209\n",
            "\n",
            "mo_sin_old_rev_tl_op 0.0\n",
            "\n",
            "mo_sin_rcnt_rev_tl_op 0.0\n",
            "\n",
            "mo_sin_rcnt_tl 0.0\n",
            "\n",
            "mort_acc 0.0\n",
            "\n",
            "mths_since_recent_bc 1.2444757151337922\n",
            "\n",
            "mths_since_recent_bc_dlq 77.96266572854599\n",
            "\n",
            "mths_since_recent_inq 11.901673226182362\n",
            "\n",
            "mths_since_recent_revol_delinq 68.05010150758925\n",
            "\n",
            "num_accts_ever_120_pd 0.0\n",
            "\n",
            "num_actv_bc_tl 0.0\n",
            "\n",
            "num_actv_rev_tl 0.0\n",
            "\n",
            "num_bc_sats 0.0\n",
            "\n",
            "num_bc_tl 0.0\n",
            "\n",
            "num_il_tl 0.0\n",
            "\n",
            "num_op_rev_tl 0.0\n",
            "\n",
            "num_rev_accts 0.0\n",
            "\n",
            "num_rev_tl_bal_gt_0 0.0\n",
            "\n",
            "num_sats 0.0\n",
            "\n",
            "num_tl_120dpd_2m 4.184164816077043\n",
            "\n",
            "num_tl_30dpd 0.0\n",
            "\n",
            "num_tl_90g_dpd_24m 0.0\n",
            "\n",
            "num_tl_op_past_12m 0.0\n",
            "\n",
            "pct_tl_nvr_dlq 0.00014658135631729\n",
            "\n",
            "percent_bc_gt_75 1.3212843458440522\n",
            "\n",
            "pub_rec_bankruptcies 0.0\n",
            "\n",
            "tax_liens 0.0\n",
            "\n",
            "tot_hi_cred_lim 0.0\n",
            "\n",
            "total_bal_ex_mort 0.0\n",
            "\n",
            "total_bc_limit 0.0\n",
            "\n",
            "total_il_high_credit_limit 0.0\n",
            "\n",
            "revol_bal_joint 89.2331596344261\n",
            "\n",
            "sec_app_fico_range_low 89.23301305306978\n",
            "\n",
            "sec_app_fico_range_high 89.23301305306978\n",
            "\n",
            "sec_app_earliest_cr_line 89.23301305306978\n",
            "\n",
            "sec_app_inq_last_6mths 89.23301305306978\n",
            "\n",
            "sec_app_mort_acc 89.23301305306978\n",
            "\n",
            "sec_app_open_acc 89.23301305306978\n",
            "\n",
            "sec_app_revol_util 89.41902479423642\n",
            "\n",
            "sec_app_open_act_il 89.23301305306978\n",
            "\n",
            "sec_app_num_rev_accts 89.23301305306978\n",
            "\n",
            "sec_app_chargeoff_within_12_mths 89.23301305306978\n",
            "\n",
            "sec_app_collections_12_mths_ex_med 89.23301305306978\n",
            "\n",
            "sec_app_mths_since_last_major_derog 96.30966777335591\n",
            "\n",
            "hardship_flag 0.0\n",
            "\n",
            "hardship_type 99.83304383515461\n",
            "\n",
            "hardship_reason 99.83304383515461\n",
            "\n",
            "hardship_status 99.83304383515461\n",
            "\n",
            "deferral_term 99.83304383515461\n",
            "\n",
            "hardship_amount 99.83304383515461\n",
            "\n",
            "hardship_start_date 99.83304383515461\n",
            "\n",
            "hardship_end_date 99.83304383515461\n",
            "\n",
            "payment_plan_start_date 99.83304383515461\n",
            "\n",
            "hardship_length 99.83304383515461\n",
            "\n",
            "hardship_dpd 99.83304383515461\n",
            "\n",
            "hardship_loan_status 99.83304383515461\n",
            "\n",
            "orig_projected_additional_accrued_interest 99.85913531657908\n",
            "\n",
            "hardship_payoff_balance_amount 99.83304383515461\n",
            "\n",
            "hardship_last_payment_amount 99.83304383515461\n",
            "\n",
            "disbursement_method 0.0\n",
            "\n",
            "debt_settlement_flag 0.0\n",
            "\n",
            "debt_settlement_flag_date 99.85297889961376\n",
            "\n",
            "settlement_status 99.85297889961376\n",
            "\n",
            "settlement_date 99.85297889961376\n",
            "\n",
            "settlement_amount 99.85297889961376\n",
            "\n",
            "settlement_percentage 99.85297889961376\n",
            "\n",
            "settlement_term 99.85297889961376\n",
            "\n"
          ],
          "name": "stdout"
        }
      ]
    },
    {
      "metadata": {
        "id": "UrdjOYPhLBDo",
        "colab_type": "text"
      },
      "cell_type": "markdown",
      "source": [
        "In the next section we basically filter out the columns that has at most 10% missing data. Turns out that only 10 columns out of 73 were dropped and the rest were at least 90% populated with data.\n",
        "\n",
        "Additionaly, at a later stage we plan to filter the most important columns that are good predictors to the loan status. But first lets look at the loan status labels and the data features so that it semantically \"make senses\". "
      ]
    },
    {
      "metadata": {
        "id": "G2dCKKP_EkH0",
        "colab_type": "code",
        "colab": {
          "base_uri": "https://localhost:8080/",
          "height": 1071
        },
        "outputId": "df89d2d5-7639-4f90-ac4a-2382c07c7543"
      },
      "cell_type": "code",
      "source": [
        "missing_percent_threshold = 10\n",
        "# only keep the columns that has less than 10% of missing data\n",
        "filtered_columns = percent_missing_columns.index[percent_missing_columns < missing_percent_threshold]\n",
        "data_set = data_set[filtered_columns]\n",
        "data_set.isnull().sum()*100.0/len(data_set)"
      ],
      "execution_count": 0,
      "outputs": [
        {
          "output_type": "execute_result",
          "data": {
            "text/plain": [
              "id                            0.000000\n",
              "loan_amnt                     0.000000\n",
              "funded_amnt                   0.000000\n",
              "funded_amnt_inv               0.000000\n",
              "term                          0.000000\n",
              "int_rate                      0.000000\n",
              "installment                   0.000000\n",
              "grade                         0.000000\n",
              "sub_grade                     0.000000\n",
              "emp_title                     7.712964\n",
              "emp_length                    7.588077\n",
              "home_ownership                0.000000\n",
              "annual_inc                    0.000000\n",
              "verification_status           0.000000\n",
              "issue_d                       0.000000\n",
              "loan_status                   0.000000\n",
              "pymnt_plan                    0.000000\n",
              "url                           0.000000\n",
              "purpose                       0.000000\n",
              "title                         0.000000\n",
              "zip_code                      0.000147\n",
              "addr_state                    0.000000\n",
              "dti                           0.161533\n",
              "delinq_2yrs                   0.000000\n",
              "earliest_cr_line              0.000000\n",
              "fico_range_low                0.000000\n",
              "fico_range_high               0.000000\n",
              "inq_last_6mths                0.000000\n",
              "open_acc                      0.000000\n",
              "pub_rec                       0.000000\n",
              "                                ...   \n",
              "mo_sin_old_rev_tl_op          0.000000\n",
              "mo_sin_rcnt_rev_tl_op         0.000000\n",
              "mo_sin_rcnt_tl                0.000000\n",
              "mort_acc                      0.000000\n",
              "mths_since_recent_bc          1.244476\n",
              "num_accts_ever_120_pd         0.000000\n",
              "num_actv_bc_tl                0.000000\n",
              "num_actv_rev_tl               0.000000\n",
              "num_bc_sats                   0.000000\n",
              "num_bc_tl                     0.000000\n",
              "num_il_tl                     0.000000\n",
              "num_op_rev_tl                 0.000000\n",
              "num_rev_accts                 0.000000\n",
              "num_rev_tl_bal_gt_0           0.000000\n",
              "num_sats                      0.000000\n",
              "num_tl_120dpd_2m              4.184165\n",
              "num_tl_30dpd                  0.000000\n",
              "num_tl_90g_dpd_24m            0.000000\n",
              "num_tl_op_past_12m            0.000000\n",
              "pct_tl_nvr_dlq                0.000147\n",
              "percent_bc_gt_75              1.321284\n",
              "pub_rec_bankruptcies          0.000000\n",
              "tax_liens                     0.000000\n",
              "tot_hi_cred_lim               0.000000\n",
              "total_bal_ex_mort             0.000000\n",
              "total_bc_limit                0.000000\n",
              "total_il_high_credit_limit    0.000000\n",
              "hardship_flag                 0.000000\n",
              "disbursement_method           0.000000\n",
              "debt_settlement_flag          0.000000\n",
              "Length: 105, dtype: float64"
            ]
          },
          "metadata": {
            "tags": []
          },
          "execution_count": 10
        }
      ]
    },
    {
      "metadata": {
        "id": "hKX559su9-Wl",
        "colab_type": "code",
        "colab": {
          "base_uri": "https://localhost:8080/",
          "height": 153
        },
        "outputId": "8ec4ad07-f57d-42f0-e643-17233fbf319e"
      },
      "cell_type": "code",
      "source": [
        "list(data_set.loan_status.unique())"
      ],
      "execution_count": 0,
      "outputs": [
        {
          "output_type": "execute_result",
          "data": {
            "text/plain": [
              "['Charged Off',\n",
              " 'Current',\n",
              " 'Late (31-120 days)',\n",
              " 'Fully Paid',\n",
              " 'In Grace Period',\n",
              " 'Late (16-30 days)',\n",
              " 'Default',\n",
              " 'Issued']"
            ]
          },
          "metadata": {
            "tags": []
          },
          "execution_count": 11
        }
      ]
    },
    {
      "metadata": {
        "id": "ybp9ou4GMpxQ",
        "colab_type": "text"
      },
      "cell_type": "markdown",
      "source": [
        "As you can see above the unique values of the loan status that we will try to predict. The following table shows the loan status descriptions.\n",
        "\n",
        "\n",
        "| Loan Status \t| Meaning \t|\n",
        "|--------------------\t|----------------------------------------------------------------------------------------------------------------------------------------------------------------------------------------------------------------------------------------------------------------------------\t|\n",
        "| Charged Off \t| Loan for which there is no longer a reasonable expectation of further payments. A charge off happens for those who defaulted.\t|\n",
        "| Current \t| Loan is up to date on all outstanding payments. \t|\n",
        "| Late (31-120 days) \t| Loan has not been current for 31 to 120 days. \t|\n",
        "| Fully Paid \t| Loan has been fully repaid, either at the expiration of the 3- or 5-year year term or as a result of a prepayment. \t|\n",
        "| In Grace Period \t| Loan is past due but within the 15-day grace period. \t|\n",
        "| Late (16-30 days) \t| Loan has not been current for 16 to 30 days. \t|\n",
        "| Default \t| Loan has not been current for 121 days or more. \t|\n",
        "| Issued \t| New loan that has passed all LendingClub reviews, received full funding, and has been issued. \t|\n",
        "\n",
        "*Note we will exclude the current and newly issued loans as they are the loans that are still in progress so we will exclude them from the dataset.*\n",
        "\n",
        "\n",
        "Now lets rethink this for a second and understand what that actually mean for the business. Out of these guys who are late, default or Fully paid, who actually ended up paying interest and who didnt ? How many of those who ended up fully paying the principle loan and ended up paying interest ?\n",
        "\n",
        "Lets face it in this business you want to maximize your return on investment so we need a model that can accept as much people as possible who wont default on their payements but also be late on their payments enought to pay interest. "
      ]
    },
    {
      "metadata": {
        "id": "GKlHguRIL5ld",
        "colab_type": "code",
        "colab": {}
      },
      "cell_type": "code",
      "source": [
        "def relabel_loan_status(df): \n",
        "  def func(x):\n",
        "    if x['total_pymnt'] >= x['funded_amnt'] :\n",
        "      return 1\n",
        "    elif x['total_pymnt'] < x['funded_amnt']:\n",
        "      return 0\n",
        "    \n",
        "  df['loan_status'] = df.apply(func, axis=1)\n",
        "  return df \n",
        "\n",
        "def seperate_data(df): \n",
        "  loan_in_progress = df[(df.loan_status == 'Current') | (df.loan_status == 'Issued')].copy()\n",
        "  loan_in_progress = loan_in_progress.reset_index(drop=True)\n",
        "  \n",
        "  loan_in_progress = loan_in_progress.drop(['loan_status'], axis=1)\n",
        "  loans = df[(df.loan_status != 'Current') & (df.loan_status != 'Issued') ].copy()\n",
        "  loans = loans.reset_index(drop=True)\n",
        "  \n",
        "  return loans, loan_in_progress"
      ],
      "execution_count": 0,
      "outputs": []
    },
    {
      "metadata": {
        "id": "9eIyDWhcTurc",
        "colab_type": "code",
        "colab": {
          "base_uri": "https://localhost:8080/",
          "height": 51
        },
        "outputId": "3f8b8f6b-8f91-425f-b319-8a93ba045018"
      },
      "cell_type": "code",
      "source": [
        "loans, loan_in_progress = seperate_data(data_set)\n",
        "loans = relabel_loan_status(loans)\n",
        "print ('loans in progress', loan_in_progress.shape)\n",
        "print ('loans finished', loans.shape)"
      ],
      "execution_count": 0,
      "outputs": [
        {
          "output_type": "stream",
          "text": [
            "loans in progress (571323, 104)\n",
            "loans finished (110892, 105)\n"
          ],
          "name": "stdout"
        }
      ]
    },
    {
      "metadata": {
        "id": "zYbnT-oV2I2z",
        "colab_type": "code",
        "colab": {
          "base_uri": "https://localhost:8080/",
          "height": 207
        },
        "outputId": "003343dd-7247-49f8-9eff-9e92ab254ae5"
      },
      "cell_type": "code",
      "source": [
        "fltr = (loans.loan_status.values==1) & (loans.total_pymnt.values > loans.funded_amnt.values)\n",
        "print('amount_funded',loans.funded_amnt.values[fltr][0:10])\n",
        "print('tot_coll_amt', loans.tot_coll_amt.values[fltr][0:10])\n",
        "print('total_rec_late_fee', loans.total_rec_late_fee.values[fltr][0:10])\n",
        "print('total_rec_int', loans.total_rec_int.values[fltr][0:10])\n",
        "print('total_rec_prncp',loans.total_rec_prncp.values[fltr][0:10])\n",
        "print('total_pymnt',loans.total_pymnt.values[fltr][0:10])\n",
        "print('status',loans.loan_status.values[fltr][0:10])"
      ],
      "execution_count": 0,
      "outputs": [
        {
          "output_type": "stream",
          "text": [
            "amount_funded [12000. 10000.  4800.  5000. 35000. 17000. 10000. 16000.  3600. 19500.]\n",
            "tot_coll_amt [  0.   0.   0. 531.   0.   0.   0.   0.   0.   0.]\n",
            "total_rec_late_fee [0. 0. 0. 0. 0. 0. 0. 0. 0. 0.]\n",
            "total_rec_int [ 773.27  970.71  248.71  168.91 1875.08  282.8   365.37 2001.02  165.1\n",
            " 1202.1 ]\n",
            "total_rec_prncp [12000. 10000.  4800.  5000. 35000. 17000. 10000. 16000.  3600. 19500.]\n",
            "total_pymnt [12773.27239645 10970.7137135   5048.70651634  5168.90637713\n",
            " 36875.07891676 17282.80279242 10365.36835829 18001.02117052\n",
            "  3765.09875144 20702.0974504 ]\n",
            "status [1 1 1 1 1 1 1 1 1 1]\n"
          ],
          "name": "stdout"
        }
      ]
    },
    {
      "metadata": {
        "id": "nEdFZ13WqIWX",
        "colab_type": "text"
      },
      "cell_type": "markdown",
      "source": [
        "## Now Lets Semantically Understand the Features: \n",
        "\n",
        "It is very important to realize the effect of the featues and understand how these data are collected during the process of a loan application. We have seen lots of work that accidently created biased models to predict the loan application. For example you can not predict whether a loan will default or not knowing already before hand the grade and sub-grade of the loan !! Thats like creating a model that predicts the next closing prices of stock market by using the next candles low, high, and open prices. \n",
        "\n",
        "In this subsections we will look into the unique values of the data. It is worth to note that there are some columns in the data that are symantically obvious and straight forward, but there are other columns needs explanation to those who are not in the financial loaning business. We will do our best to explain these ones in the next subsections. "
      ]
    },
    {
      "metadata": {
        "id": "uZe74DqmgKLm",
        "colab_type": "text"
      },
      "cell_type": "markdown",
      "source": [
        "### How many unique values do we have in the data ?\n",
        "The next couple of lines will show how many unique values in the data as it helps to symantically understand it. "
      ]
    },
    {
      "metadata": {
        "id": "V5xM9A2TWy9W",
        "colab_type": "code",
        "colab": {
          "base_uri": "https://localhost:8080/",
          "height": 1071
        },
        "outputId": "711e1caa-5a55-428e-f4d0-8f218b8f3a37"
      },
      "cell_type": "code",
      "source": [
        "def no_unique_values(x):\n",
        "  return len(x.unique()) \n",
        "loans.apply(no_unique_values, axis=0)"
      ],
      "execution_count": 0,
      "outputs": [
        {
          "output_type": "execute_result",
          "data": {
            "text/plain": [
              "id                            110892\n",
              "loan_amnt                       1479\n",
              "funded_amnt                     1479\n",
              "funded_amnt_inv                 1492\n",
              "term                               2\n",
              "int_rate                         106\n",
              "installment                    19303\n",
              "grade                              7\n",
              "sub_grade                         35\n",
              "emp_title                      39415\n",
              "emp_length                        12\n",
              "home_ownership                     5\n",
              "annual_inc                      9345\n",
              "verification_status                3\n",
              "issue_d                           18\n",
              "loan_status                        2\n",
              "pymnt_plan                         2\n",
              "url                           110892\n",
              "purpose                           13\n",
              "title                             12\n",
              "zip_code                         876\n",
              "addr_state                        50\n",
              "dti                             5327\n",
              "delinq_2yrs                       22\n",
              "earliest_cr_line                 646\n",
              "fico_range_low                    38\n",
              "fico_range_high                   38\n",
              "inq_last_6mths                     6\n",
              "open_acc                          65\n",
              "pub_rec                           19\n",
              "                               ...  \n",
              "mo_sin_old_rev_tl_op             662\n",
              "mo_sin_rcnt_rev_tl_op            202\n",
              "mo_sin_rcnt_tl                   137\n",
              "mort_acc                          23\n",
              "mths_since_recent_bc             354\n",
              "num_accts_ever_120_pd             34\n",
              "num_actv_bc_tl                    28\n",
              "num_actv_rev_tl                   44\n",
              "num_bc_sats                       40\n",
              "num_bc_tl                         55\n",
              "num_il_tl                         90\n",
              "num_op_rev_tl                     60\n",
              "num_rev_accts                     85\n",
              "num_rev_tl_bal_gt_0               39\n",
              "num_sats                          65\n",
              "num_tl_120dpd_2m                   5\n",
              "num_tl_30dpd                       4\n",
              "num_tl_90g_dpd_24m                19\n",
              "num_tl_op_past_12m                25\n",
              "pct_tl_nvr_dlq                   486\n",
              "percent_bc_gt_75                 146\n",
              "pub_rec_bankruptcies               7\n",
              "tax_liens                         18\n",
              "tot_hi_cred_lim                86445\n",
              "total_bal_ex_mort              70235\n",
              "total_bc_limit                  2740\n",
              "total_il_high_credit_limit     60008\n",
              "hardship_flag                      2\n",
              "disbursement_method                2\n",
              "debt_settlement_flag               2\n",
              "Length: 105, dtype: int64"
            ]
          },
          "metadata": {
            "tags": []
          },
          "execution_count": 14
        }
      ]
    },
    {
      "metadata": {
        "id": "YhxG3gwyZaGN",
        "colab_type": "code",
        "colab": {
          "base_uri": "https://localhost:8080/",
          "height": 1071
        },
        "outputId": "0004cd0d-fb13-4321-97b8-918804570c22"
      },
      "cell_type": "code",
      "source": [
        "loans.dtypes"
      ],
      "execution_count": 0,
      "outputs": [
        {
          "output_type": "execute_result",
          "data": {
            "text/plain": [
              "id                             object\n",
              "loan_amnt                     float64\n",
              "funded_amnt                   float64\n",
              "funded_amnt_inv               float64\n",
              "term                           object\n",
              "int_rate                       object\n",
              "installment                   float64\n",
              "grade                          object\n",
              "sub_grade                      object\n",
              "emp_title                      object\n",
              "emp_length                     object\n",
              "home_ownership                 object\n",
              "annual_inc                    float64\n",
              "verification_status            object\n",
              "issue_d                        object\n",
              "loan_status                     int64\n",
              "pymnt_plan                     object\n",
              "url                            object\n",
              "purpose                        object\n",
              "title                          object\n",
              "zip_code                       object\n",
              "addr_state                     object\n",
              "dti                           float64\n",
              "delinq_2yrs                   float64\n",
              "earliest_cr_line               object\n",
              "inq_last_6mths                float64\n",
              "open_acc                      float64\n",
              "pub_rec                       float64\n",
              "revol_bal                     float64\n",
              "revol_util                     object\n",
              "                               ...   \n",
              "out_prncp_inv                 float64\n",
              "total_pymnt                   float64\n",
              "total_pymnt_inv               float64\n",
              "total_rec_prncp               float64\n",
              "total_rec_int                 float64\n",
              "total_rec_late_fee            float64\n",
              "recoveries                    float64\n",
              "collection_recovery_fee       float64\n",
              "last_pymnt_d                   object\n",
              "last_pymnt_amnt               float64\n",
              "last_credit_pull_d             object\n",
              "collections_12_mths_ex_med    float64\n",
              "policy_code                   float64\n",
              "application_type               object\n",
              "acc_now_delinq                float64\n",
              "tot_coll_amt                  float64\n",
              "tot_cur_bal                   float64\n",
              "open_acc_6m                   float64\n",
              "open_il_12m                   float64\n",
              "open_il_24m                   float64\n",
              "mths_since_rcnt_il            float64\n",
              "total_bal_il                  float64\n",
              "open_rv_12m                   float64\n",
              "open_rv_24m                   float64\n",
              "max_bal_bc                    float64\n",
              "all_util                      float64\n",
              "total_rev_hi_lim              float64\n",
              "inq_fi                        float64\n",
              "total_cu_tl                   float64\n",
              "inq_last_12m                  float64\n",
              "Length: 63, dtype: object"
            ]
          },
          "metadata": {
            "tags": []
          },
          "execution_count": 34
        }
      ]
    },
    {
      "metadata": {
        "id": "9e1h-xboPBWb",
        "colab_type": "text"
      },
      "cell_type": "markdown",
      "source": [
        "### What does the data actually say about these loans ?\n",
        "\n",
        "In this sub-sub-section we will read the unique values of each columns and provide a brief explanations to the one that are not obvious especially to those who are not familiar with financial data. This is very important before doing any feature selections because we need to take out the information or the columns that wont be available at the time the loan application is submitted for approval. Unfortuently lots of published work did not take into account this problem which makes their models biased and unrealistic\n"
      ]
    },
    {
      "metadata": {
        "id": "cyXk-vZKZzuG",
        "colab_type": "code",
        "colab": {
          "base_uri": "https://localhost:8080/",
          "height": 5508
        },
        "outputId": "99b0bc12-01b9-4311-aee0-fc6c0c1129d5"
      },
      "cell_type": "code",
      "source": [
        "columns = loans.columns.values \n",
        "for col in columns: \n",
        "  print (col, 'unique%',round(len(loans[col].unique())/len(loans),2), 'no unique values', len(loans[col].unique()) )\n",
        "  print (loans[col].unique()[0:5]) \n",
        "  print ('')"
      ],
      "execution_count": 0,
      "outputs": [
        {
          "output_type": "stream",
          "text": [
            "id unique% 1.0 no unique values 110892\n",
            "[103739310 102675947 98692718 104210150 104046532]\n",
            "\n",
            "loan_amnt unique% 0.01 no unique values 1479\n",
            "[ 8400. 14000. 20000. 12000. 10000.]\n",
            "\n",
            "funded_amnt unique% 0.01 no unique values 1479\n",
            "[ 8400. 14000. 20000. 12000. 10000.]\n",
            "\n",
            "funded_amnt_inv unique% 0.01 no unique values 1492\n",
            "[ 8400. 14000. 20000. 12000. 10000.]\n",
            "\n",
            "term unique% 0.0 no unique values 2\n",
            "[' 36 months' ' 60 months']\n",
            "\n",
            "int_rate unique% 0.0 no unique values 106\n",
            "[' 11.39%' ' 15.99%' ' 12.74%' '  6.99%' ' 14.99%']\n",
            "\n",
            "installment unique% 0.17 no unique values 19303\n",
            "[276.56 340.38 671.38 370.48 335.69]\n",
            "\n",
            "grade unique% 0.0 no unique values 7\n",
            "['B' 'C' 'A' 'E' 'D']\n",
            "\n",
            "sub_grade unique% 0.0 no unique values 35\n",
            "['B3' 'C5' 'C1' 'A2' 'C4']\n",
            "\n",
            "emp_title unique% 0.36 no unique values 39415\n",
            "['IT Tech' 'Teacher' 'Project Manager' 'signmaker/waterjet'\n",
            " 'Product Specialist ']\n",
            "\n",
            "emp_length unique% 0.0 no unique values 12\n",
            "['8 years' '10+ years' '< 1 year' '1 year' '2 years']\n",
            "\n",
            "home_ownership unique% 0.0 no unique values 5\n",
            "['MORTGAGE' 'RENT' 'OWN' 'NONE' 'ANY']\n",
            "\n",
            "annual_inc unique% 0.08 no unique values 9345\n",
            "[ 50000.  43000. 135000.  56000.  40000.]\n",
            "\n",
            "verification_status unique% 0.0 no unique values 3\n",
            "['Source Verified' 'Not Verified' 'Verified']\n",
            "\n",
            "issue_d unique% 0.0 no unique values 18\n",
            "['Mar-2017' 'Feb-2017' 'Jan-2017' 'Jun-2017' 'May-2017']\n",
            "\n",
            "loan_status unique% 0.0 no unique values 2\n",
            "[0 1]\n",
            "\n",
            "pymnt_plan unique% 0.0 no unique values 2\n",
            "['n' 'y']\n",
            "\n",
            "url unique% 1.0 no unique values 110892\n",
            "['https://lendingclub.com/browse/loanDetail.action?loan_id=103739310'\n",
            " 'https://lendingclub.com/browse/loanDetail.action?loan_id=102675947'\n",
            " 'https://lendingclub.com/browse/loanDetail.action?loan_id=98692718'\n",
            " 'https://lendingclub.com/browse/loanDetail.action?loan_id=104210150'\n",
            " 'https://lendingclub.com/browse/loanDetail.action?loan_id=104046532']\n",
            "\n",
            "purpose unique% 0.0 no unique values 13\n",
            "['other' 'debt_consolidation' 'home_improvement' 'credit_card'\n",
            " 'major_purchase']\n",
            "\n",
            "title unique% 0.0 no unique values 12\n",
            "['Other' 'Debt consolidation' 'Home improvement' 'Credit card refinancing'\n",
            " 'Major purchase']\n",
            "\n",
            "zip_code unique% 0.01 no unique values 876\n",
            "['454xx' '367xx' '945xx' '852xx' '324xx']\n",
            "\n",
            "addr_state unique% 0.0 no unique values 50\n",
            "['OH' 'AL' 'CA' 'AZ' 'FL']\n",
            "\n",
            "dti unique% 0.05 no unique values 5327\n",
            "[15.63 21.8  12.55 17.9   8.85]\n",
            "\n",
            "delinq_2yrs unique% 0.0 no unique values 22\n",
            "[0. 1. 2. 4. 3.]\n",
            "\n",
            "earliest_cr_line unique% 0.01 no unique values 646\n",
            "['Apr-2005' 'Oct-1995' 'Aug-2005' 'Aug-1995' 'Mar-1997']\n",
            "\n",
            "fico_range_low unique% 0.0 no unique values 38\n",
            "[675. 670. 695. 775. 700.]\n",
            "\n",
            "fico_range_high unique% 0.0 no unique values 38\n",
            "[679. 674. 699. 779. 704.]\n",
            "\n",
            "inq_last_6mths unique% 0.0 no unique values 6\n",
            "[0. 1. 2. 3. 4.]\n",
            "\n",
            "open_acc unique% 0.0 no unique values 65\n",
            "[14.  3. 21. 13.  7.]\n",
            "\n",
            "pub_rec unique% 0.0 no unique values 19\n",
            "[0. 1. 2. 3. 4.]\n",
            "\n",
            "revol_bal unique% 0.33 no unique values 36852\n",
            "[12831. 18537. 22515.  6665.  9227.]\n",
            "\n",
            "revol_util unique% 0.01 no unique values 1085\n",
            "['30.3%' '99.1%' '49.1%' '24%' '55.9%']\n",
            "\n",
            "total_acc unique% 0.0 no unique values 111\n",
            "[30.  8. 28. 15. 18.]\n",
            "\n",
            "initial_list_status unique% 0.0 no unique values 2\n",
            "['w' 'f']\n",
            "\n",
            "out_prncp unique% 0.14 no unique values 15969\n",
            "[    0.   14681.02 11220.75 12625.92 12803.65]\n",
            "\n",
            "out_prncp_inv unique% 0.15 no unique values 16084\n",
            "[    0.   14681.02 11220.75 12625.92 12803.65]\n",
            "\n",
            "total_pymnt unique% 0.96 no unique values 106606\n",
            "[ 1925.29        3038.55        7356.87       12773.27239645\n",
            " 10970.7137135 ]\n",
            "\n",
            "total_pymnt_inv unique% 0.94 no unique values 104336\n",
            "[ 1925.29  3038.55  7356.87 12773.27 10970.71]\n",
            "\n",
            "total_rec_prncp unique% 0.25 no unique values 27586\n",
            "[ 1417.67  1460.6   5318.98 12000.   10000.  ]\n",
            "\n",
            "total_rec_int unique% 0.75 no unique values 83017\n",
            "[ 507.62 1577.95 2037.89  773.27  970.71]\n",
            "\n",
            "total_rec_late_fee unique% 0.02 no unique values 2400\n",
            "[ 0.   23.59 85.1  21.88 25.94]\n",
            "\n",
            "recoveries unique% 0.04 no unique values 4757\n",
            "[   0.   3749.88  492.71 2631.78 1702.43]\n",
            "\n",
            "collection_recovery_fee unique% 0.04 no unique values 4853\n",
            "[  0.         674.97840001  88.6878     473.7204     306.4374    ]\n",
            "\n",
            "last_pymnt_d unique% 0.0 no unique values 20\n",
            "['Nov-2017' 'Jan-2018' 'Mar-2018' 'May-2018' 'Feb-2018']\n",
            "\n",
            "last_pymnt_amnt unique% 0.78 no unique values 86312\n",
            "[ 276.56  340.38  671.38 8001.3  7963.66]\n",
            "\n",
            "last_credit_pull_d unique% 0.0 no unique values 21\n",
            "['Jun-2018' 'May-2018' 'Feb-2018' 'Jun-2017' 'Nov-2017']\n",
            "\n",
            "last_fico_range_high unique% 0.0 no unique values 72\n",
            "[569. 524. 574. 704. 719.]\n",
            "\n",
            "last_fico_range_low unique% 0.0 no unique values 71\n",
            "[565. 520. 570. 700. 715.]\n",
            "\n",
            "collections_12_mths_ex_med unique% 0.0 no unique values 9\n",
            "[0. 1. 5. 2. 3.]\n",
            "\n",
            "policy_code unique% 0.0 no unique values 1\n",
            "[1.]\n",
            "\n",
            "application_type unique% 0.0 no unique values 2\n",
            "['Individual' 'Joint App']\n",
            "\n",
            "acc_now_delinq unique% 0.0 no unique values 4\n",
            "[0. 1. 2. 3.]\n",
            "\n",
            "tot_coll_amt unique% 0.04 no unique values 4139\n",
            "[271.   0. 531.  63. 100.]\n",
            "\n",
            "tot_cur_bal unique% 0.82 no unique values 90944\n",
            "[161061.  26572.  55911. 139230.   9227.]\n",
            "\n",
            "open_acc_6m unique% 0.0 no unique values 15\n",
            "[3. 0. 5. 2. 1.]\n",
            "\n",
            "open_act_il unique% 0.0 no unique values 40\n",
            "[ 2.  1. 13.  0.  4.]\n",
            "\n",
            "open_il_12m unique% 0.0 no unique values 12\n",
            "[1. 0. 2. 3. 4.]\n",
            "\n",
            "open_il_24m unique% 0.0 no unique values 22\n",
            "[2. 0. 1. 3. 6.]\n",
            "\n",
            "mths_since_rcnt_il unique% 0.0 no unique values 260\n",
            "[ 10.  25.   3.  13. 139.]\n",
            "\n",
            "total_bal_il unique% 0.54 no unique values 59629\n",
            "[38760.  8035. 33396. 14875.     0.]\n",
            "\n",
            "open_rv_12m unique% 0.0 no unique values 26\n",
            "[4. 0. 1. 2. 3.]\n",
            "\n",
            "open_rv_24m unique% 0.0 no unique values 39\n",
            "[8. 0. 9. 3. 6.]\n",
            "\n",
            "max_bal_bc unique% 0.17 no unique values 18683\n",
            "[ 5338. 18537.  7275.  1835.  5454.]\n",
            "\n",
            "all_util unique% 0.0 no unique values 156\n",
            "[65. 70. 54. 42. 56.]\n",
            "\n",
            "total_rev_hi_lim unique% 0.04 no unique values 4680\n",
            "[42300. 18700. 45900. 27800. 16500.]\n",
            "\n",
            "inq_fi unique% 0.0 no unique values 28\n",
            "[4. 0. 2. 1. 3.]\n",
            "\n",
            "total_cu_tl unique% 0.0 no unique values 45\n",
            "[1. 0. 8. 3. 9.]\n",
            "\n",
            "inq_last_12m unique% 0.0 no unique values 37\n",
            "[7. 0. 2. 1. 4.]\n",
            "\n",
            "acc_open_past_24mths unique% 0.0 no unique values 42\n",
            "[10.  0.  4.  3.  8.]\n",
            "\n",
            "avg_cur_bal unique% 0.35 no unique values 38299\n",
            "[12389.  8857.  2662. 10710.  1318.]\n",
            "\n",
            "bc_open_to_buy unique% 0.32 no unique values 35186\n",
            "[24145.   163. 19763. 17592.  1691.]\n",
            "\n",
            "bc_util unique% 0.01 no unique values 1141\n",
            "[33.1 99.1 50.1 20.  79.4]\n",
            "\n",
            "chargeoff_within_12_mths unique% 0.0 no unique values 8\n",
            "[0. 2. 1. 5. 8.]\n",
            "\n",
            "delinq_amnt unique% 0.0 no unique values 320\n",
            "[   0.   25. 1300. 6250.  422.]\n",
            "\n",
            "mo_sin_old_il_acct unique% 0.0 no unique values 436\n",
            "[131. 257. 139. 248. 234.]\n",
            "\n",
            "mo_sin_old_rev_tl_op unique% 0.01 no unique values 662\n",
            "[143. 137.  24. 259. 240.]\n",
            "\n",
            "mo_sin_rcnt_rev_tl_op unique% 0.0 no unique values 202\n",
            "[ 4. 60.  2. 33.  8.]\n",
            "\n",
            "mo_sin_rcnt_tl unique% 0.0 no unique values 137\n",
            "[ 4. 25.  2. 13.  8.]\n",
            "\n",
            "mort_acc unique% 0.0 no unique values 23\n",
            "[4. 0. 5. 2. 6.]\n",
            "\n",
            "mths_since_recent_bc unique% 0.0 no unique values 354\n",
            "[  4. 137.   2.  33.  31.]\n",
            "\n",
            "num_accts_ever_120_pd unique% 0.0 no unique values 34\n",
            "[0. 2. 4. 1. 5.]\n",
            "\n",
            "num_actv_bc_tl unique% 0.0 no unique values 28\n",
            "[4. 1. 6. 2. 9.]\n",
            "\n",
            "num_actv_rev_tl unique% 0.0 no unique values 44\n",
            "[5. 1. 7. 4. 8.]\n",
            "\n",
            "num_bc_sats unique% 0.0 no unique values 40\n",
            "[7. 1. 6. 2. 9.]\n",
            "\n",
            "num_bc_tl unique% 0.0 no unique values 55\n",
            "[11.  2.  6.  7.  3.]\n",
            "\n",
            "num_il_tl unique% 0.0 no unique values 90\n",
            "[ 9.  5. 19.  2.  4.]\n",
            "\n",
            "num_op_rev_tl unique% 0.0 no unique values 60\n",
            "[11.  1.  8. 10.  7.]\n",
            "\n",
            "num_rev_accts unique% 0.0 no unique values 85\n",
            "[16.  3.  9. 14. 11.]\n",
            "\n",
            "num_rev_tl_bal_gt_0 unique% 0.0 no unique values 39\n",
            "[5. 1. 7. 4. 8.]\n",
            "\n",
            "num_sats unique% 0.0 no unique values 65\n",
            "[14.  3. 21. 13.  7.]\n",
            "\n",
            "num_tl_120dpd_2m unique% 0.0 no unique values 5\n",
            "[ 0. nan  1.  2.  3.]\n",
            "\n",
            "num_tl_30dpd unique% 0.0 no unique values 4\n",
            "[0. 1. 2. 3.]\n",
            "\n",
            "num_tl_90g_dpd_24m unique% 0.0 no unique values 19\n",
            "[0. 1. 2. 3. 4.]\n",
            "\n",
            "num_tl_op_past_12m unique% 0.0 no unique values 25\n",
            "[5. 0. 1. 2. 3.]\n",
            "\n",
            "pct_tl_nvr_dlq unique% 0.0 no unique values 486\n",
            "[100.   87.5  89.7  94.4  87.1]\n",
            "\n",
            "percent_bc_gt_75 unique% 0.0 no unique values 146\n",
            "[ 14.3 100.   16.7   0.   50. ]\n",
            "\n",
            "pub_rec_bankruptcies unique% 0.0 no unique values 7\n",
            "[0. 1. 2. 3. 4.]\n",
            "\n",
            "tax_liens unique% 0.0 no unique values 18\n",
            "[0. 1. 3. 2. 6.]\n",
            "\n",
            "tot_hi_cred_lim unique% 0.78 no unique values 86445\n",
            "[205671.  38058. 102864. 172161.  16500.]\n",
            "\n",
            "total_bal_ex_mort unique% 0.63 no unique values 70235\n",
            "[51591. 26572. 55911. 21540.  9227.]\n",
            "\n",
            "total_bc_limit unique% 0.02 no unique values 2740\n",
            "[36100. 18700. 39600. 22000.  8200.]\n",
            "\n",
            "total_il_high_credit_limit unique% 0.54 no unique values 60008\n",
            "[36876. 19358. 56964. 23500.     0.]\n",
            "\n",
            "hardship_flag unique% 0.0 no unique values 2\n",
            "['N' 'Y']\n",
            "\n",
            "disbursement_method unique% 0.0 no unique values 2\n",
            "['Cash' 'DirectPay']\n",
            "\n",
            "debt_settlement_flag unique% 0.0 no unique values 2\n",
            "['N' 'Y']\n",
            "\n"
          ],
          "name": "stdout"
        }
      ]
    },
    {
      "metadata": {
        "id": "r9XUbKbjO7ja",
        "colab_type": "text"
      },
      "cell_type": "markdown",
      "source": [
        "In the above output it shows some column names and the unique values of these column names. Some of them are straight forward to understand and some of them are not clear. I refered to the [data dictionary](https://www.lendingclub.com/info/download-data.action) on lending clubs website for the full descriptions. I am only going to document and describe the subset we extracted from the previous steps. If you need to know but for more information on other columns you can view them on the link provided above. \n",
        "\n",
        "The following table shows the columns that we intend to keep and the ones that we will remove from the dataset. The column is also showing the description of these coulmns. We decided on the columns that we want to remove because some of these features will not be available during the time an application is submitted. For example: intreset rate is determined after the application is approved or rejected, or funded amount. Also other biasing featuers such as total payements made up to date. Anything we think it wont be possible that is available during the time of application is removed. Other columns are removed such as url and application id, they are unique data and they provide no predictability to the model. \n",
        "\n",
        "| column Name \t| description \t| Kept or Removed \t|\n",
        "|----------------------------\t|----------------------------------------------------------------------------------------------------------------------------------------------------------------------------------------------------------\t|-----------------\t|\n",
        "| id \t| A unique LC assigned ID for the loan listing. \t| Removed \t|\n",
        "| funded_amnt \t| The total amount committed to that loan at that point in time. \t| Removed \t|\n",
        "| funded_amnt_inv \t| The total amount committed by investors for that loan at that point in time. \t| Removed \t|\n",
        "| term \t| The number of payments on the loan. Values are in months and can be either 36 or 60. \t| Removed \t|\n",
        "| int_rate \t| Interest Rate on the loan \t| Removed \t|\n",
        "| installment \t| The monthly payment owed by the borrower if the loan originates. \t| Removed \t|\n",
        "| grade \t| LC assigned loan grade \t| Removed \t|\n",
        "| sub_grade \t| LC assigned loan subgrade \t| Removed \t|\n",
        "| issue_d \t| The month which the loan was funded \t| Removed \t|\n",
        "| loan_status \t| Current status of the loan \t| Removed \t|\n",
        "| pymnt_plan \t| Indicates if a payment plan has been put in place for the loan \t| Removed \t|\n",
        "| url \t| URL for the LC page with listing data. \t| Removed \t|\n",
        "| title \t| The loan title provided by the borrower \t| Removed \t|\n",
        "| out_prncp \t| Remaining outstanding principal for total amount funded \t| Removed \t|\n",
        "| out_prncp_inv \t| Remaining outstanding principal for portion of total amount funded by investors \t| Removed \t|\n",
        "| total_pymnt \t| Payments received to date for total amount funded \t| Removed \t|\n",
        "| total_pymnt_inv \t| Payments received to date for portion of total amount funded by investors \t| Removed \t|\n",
        "| total_rec_prncp \t| Principal received to date \t| Removed \t|\n",
        "| total_rec_int \t| Interest received to date \t| Removed \t|\n",
        "| total_rec_late_fee \t| Late fees received to date \t| Removed \t|\n",
        "| recoveries \t| post charge off gross recovery \t| Removed \t|\n",
        "| collection_recovery_fee \t| post charge off collection fee \t| Removed \t|\n",
        "| last_pymnt_d \t| Last month payment was received \t| Removed \t|\n",
        "| last_pymnt_amnt \t| Last total payment amount received \t| Removed \t|\n",
        "| collections_12_mths_ex_med \t| Number of charge-offs within 12 months \t| Removed \t|\n",
        "| policy_code \t| publicly available policy_code=1 new products not publicly available policy_code=2 \t| Removed \t|\n",
        "| acc_now_delinq \t| The number of accounts on which the borrower is now delinquent. \t| Removed \t|\n",
        "| tot_coll_amt \t| Total collection amounts ever owed \t| Removed \t|\n",
        "| loan_amnt \t| The listed amount of the loan applied for by the borrower. If at some point in time, the credit department reduces the loan amount, then it will be reflected in this value. \t| kept \t|\n",
        "| emp_title \t| The job title supplied by the Borrower when applying for the loan.* \t| kept \t|\n",
        "| emp_length \t| Employment length in years. Possible values are between 0 and 10 where 0 means less than one year and 10 means ten or more years. \t| kept \t|\n",
        "| home_ownership \t| The home ownership status provided by the borrower during registration. Our values are: RENT, OWN, MORTGAGE, OTHER. \t| kept \t|\n",
        "| annual_inc \t| The self-reported annual income provided by the borrower during registration. \t| kept \t|\n",
        "| verification_status \t| Indicates if income was verified by LC, not verified, or if the income source was verified \t| kept \t|\n",
        "| purpose \t| A category provided by the borrower for the loan request. \t| kept \t|\n",
        "| zip_code \t| zip code  \t| kept \t|\n",
        "| addr_state \t| state \t| kept \t|\n",
        "| dti \t| A ratio calculated using the borrower’s total monthly debt payments on the total debt obligations, excluding mortgage and the requested LC loan, divided by the borrower’s self-reported monthly income. \t| kept \t|\n",
        "| delinq_2yrs \t| The number of 30+ days past-due incidences of delinquency in the borrower's credit file for the past 2 years \t| kept \t|\n",
        "| earliest_cr_line \t| The month the borrower's earliest reported credit line was opened \t| kept \t|\n",
        "| inq_last_6mths \t| The number of inquiries in past 6 months (excluding auto and mortgage inquiries) \t| kept \t|\n",
        "| open_acc \t| The number of open credit lines in the borrower's credit file. \t| kept \t|\n",
        "| pub_rec \t| Number of derogatory public records \t| kept \t|\n",
        "| revol_bal \t| Total credit revolving balance \t| kept \t|\n",
        "| revol_util \t| Revolving line utilization rate, or the amount of credit the borrower is using relative to all available revolving credit. \t| kept \t|\n",
        "| total_acc \t| The total number of credit lines currently in the borrower's credit file \t| kept \t|\n",
        "| initial_list_status \t| The initial listing status of the loan. Possible values are – W, F \t| kept \t|\n",
        "| last_credit_pull_d \t| The most recent month LC pulled credit for this loan \t| kept \t|\n",
        "| application_type \t| Indicates whether the loan is an individual application or a joint application with two co-borrowers \t| kept \t|\n",
        "| tot_cur_bal \t| Total current balance of all accounts \t| kept \t|\n",
        "| open_acc_6m \t| Number of open trades in last 6 months \t| kept \t|\n",
        "| open_il_12m \t| Number of installment accounts opened in past 12 months \t| kept \t|\n",
        "| open_il_24m \t| Number of installment accounts opened in past 24 months \t| kept \t|\n",
        "| mths_since_rcnt_il \t| mths_since_rcnt_il \t| kept \t|\n",
        "| total_bal_il \t| Total current balance of all installment accounts \t| kept \t|\n",
        "| open_rv_12m \t| Number of revolving trades opened in past 12 months \t| kept \t|\n",
        "| open_rv_24m \t| Number of revolving trades opened in past 24 months \t| kept \t|\n",
        "| max_bal_bc \t| max_bal_bc \t| kept \t|\n",
        "| all_util \t| Balance to credit limit on all trades \t| kept \t|\n",
        "| total_rev_hi_lim \t| Total revolving high credit/credit limit \t| kept \t|\n",
        "| inq_fi \t| Number of personal finance inquiries \t| kept \t|\n",
        "| total_cu_tl \t| Number of finance trades \t| kept \t|\n",
        "| inq_last_12m \t| Number of credit inquiries in past 12 months \t| kept \t|\n",
        "\n",
        "\n",
        "\n",
        "\n",
        "\n"
      ]
    },
    {
      "metadata": {
        "id": "QRy8Z5dXArQo",
        "colab_type": "code",
        "colab": {}
      },
      "cell_type": "code",
      "source": [
        " columns_to_remove = [\n",
        "     'id',\n",
        "     'funded_amnt_inv',\n",
        "     'term',\n",
        "     'int_rate',\n",
        "     'installment',\n",
        "     'grade',\n",
        "     'sub_grade',\n",
        "     'issue_d',\n",
        "     'loan_status',\n",
        "     'pymnt_plan',\n",
        "     'url',\n",
        "     'title',\n",
        "     'emp_title',\n",
        "     'zip_code',\n",
        "     'addr_state',\n",
        "     'initial_list_status',\n",
        "     'out_prncp',\n",
        "     'out_prncp_inv',\n",
        "     'total_pymnt_inv',\n",
        "     'total_rec_prncp',\n",
        "     'total_rec_int',\n",
        "     'recoveries',\n",
        "     'collection_recovery_fee',\n",
        "     'last_pymnt_d',\n",
        "     'last_pymnt_amnt',\n",
        "     'collections_12_mths_ex_med',\n",
        "     'policy_code',\n",
        "     'acc_now_delinq',\n",
        "     'chargeoff_within_12_mths',\n",
        "     'delinq_amnt',\n",
        "     'disbursement_method',\n",
        "     'debt_settlement_flag',\n",
        "     'hardship_flag']\n",
        "loans_filtered = loans.drop(columns_to_remove, axis=1)\n",
        "y = loans.loan_status.values"
      ],
      "execution_count": 0,
      "outputs": []
    },
    {
      "metadata": {
        "id": "tTyxdPktwYCo",
        "colab_type": "text"
      },
      "cell_type": "markdown",
      "source": [
        "# Data Cleaning and Pre-Processing\n",
        "\n",
        "Now after we have made sure that our data does not have any biased information to predict the future and we filited the columns that provides information that should be available during the time of an applicaiton. In this section we will look into the missing data and clean the data furture so that we can use it in our machine leanring algorithim. \n",
        "\n",
        "First we look at misisng data and impute them with misisng zeros or the label 'unknown' in case of categorical data. After that we will pre process the data by converting the categorical data to numerical integers and standerdize them. As for the numerical columns we will normalize them and standerdize them as well.  \n",
        "\n"
      ]
    },
    {
      "metadata": {
        "id": "BE5kEmXc9ivE",
        "colab_type": "text"
      },
      "cell_type": "markdown",
      "source": [
        "## NaN Cleaning: "
      ]
    },
    {
      "metadata": {
        "id": "OoIQPrd7x69C",
        "colab_type": "text"
      },
      "cell_type": "markdown",
      "source": [
        "From the look of it we have `emp_title`, `emp_length`, `mths_sice_recnt_il`, `last_credit_pull_date` have missing values. The next script will take care of that. \n"
      ]
    },
    {
      "metadata": {
        "id": "ZErRCnZryXGg",
        "colab_type": "code",
        "colab": {}
      },
      "cell_type": "code",
      "source": [
        "loans_filtered.loc[loans_filtered.emp_length.isna(),'emp_length'] =  '< 1 year'\n",
        "loans_filtered.loc[loans_filtered.mths_since_rcnt_il.isna(),'mths_since_rcnt_il'] =  loans_filtered.mths_since_rcnt_il.median()\n",
        "loans_filtered.loc[loans_filtered.dti.isna(),'dti'] =  loans_filtered.dti.median()\n",
        "loans_filtered.loc[loans_filtered.all_util.isna(),'all_util'] =  loans_filtered.all_util.median()\n",
        "loans_filtered.loc[loans_filtered.avg_cur_bal.isna(),'avg_cur_bal'] =  loans_filtered.avg_cur_bal.median()\n",
        "loans_filtered.loc[loans_filtered.bc_util.isna(),'bc_util'] =  loans_filtered.bc_util.median()\n",
        "loans_filtered.loc[loans_filtered.bc_open_to_buy.isna(),'bc_open_to_buy'] =  loans_filtered.bc_open_to_buy.median()\n",
        "loans_filtered.loc[loans_filtered.mo_sin_old_il_acct.isna(),'mo_sin_old_il_acct'] =  loans_filtered.mo_sin_old_il_acct.median()\n",
        "loans_filtered.loc[loans_filtered.mths_since_recent_bc.isna(),'mths_since_recent_bc'] =  loans_filtered.mths_since_recent_bc.median()\n",
        "loans_filtered.loc[loans_filtered.num_tl_120dpd_2m.isna(),'num_tl_120dpd_2m'] =  loans_filtered.num_tl_120dpd_2m.median()\n",
        "loans_filtered.loc[loans_filtered.percent_bc_gt_75.isna(),'percent_bc_gt_75'] =  loans_filtered.percent_bc_gt_75.median()\n",
        "loans_filtered.loc[loans_filtered.last_credit_pull_d.isna(),'last_credit_pull_d'] = 'unkown'"
      ],
      "execution_count": 0,
      "outputs": []
    },
    {
      "metadata": {
        "id": "5G_Zg6ET3vgn",
        "colab_type": "code",
        "colab": {
          "base_uri": "https://localhost:8080/",
          "height": 68
        },
        "outputId": "c5f809be-f558-42fd-e1d3-1466e7f9f770"
      },
      "cell_type": "code",
      "source": [
        "# Now lets check the nans again. \n",
        "print (loans_filtered.emp_length.isna().sum())\n",
        "print (loans_filtered.mths_since_rcnt_il.isna().sum())\n",
        "print (loans_filtered.last_credit_pull_d.isna().sum())\n"
      ],
      "execution_count": 0,
      "outputs": [
        {
          "output_type": "stream",
          "text": [
            "0\n",
            "0\n",
            "0\n"
          ],
          "name": "stdout"
        }
      ]
    },
    {
      "metadata": {
        "id": "ZevAX258Ro76",
        "colab_type": "code",
        "colab": {
          "base_uri": "https://localhost:8080/",
          "height": 3723
        },
        "outputId": "c85aacfd-f95f-4178-e3f1-c5a53b68bb3c"
      },
      "cell_type": "code",
      "source": [
        "columns = loans_filtered.columns.values \n",
        "for col in columns: \n",
        "  print (col, ', number of NA', loans_filtered[col].isnull().sum())\n",
        "  print (loans_filtered[col].unique()[0:5]) \n",
        "  print ('')"
      ],
      "execution_count": 0,
      "outputs": [
        {
          "output_type": "stream",
          "text": [
            "loan_amnt , number of NA 0\n",
            "[ 8400. 14000. 20000. 12000. 10000.]\n",
            "\n",
            "funded_amnt , number of NA 0\n",
            "[ 8400. 14000. 20000. 12000. 10000.]\n",
            "\n",
            "emp_length , number of NA 0\n",
            "['8 years' '10+ years' '< 1 year' '1 year' '2 years']\n",
            "\n",
            "home_ownership , number of NA 0\n",
            "['MORTGAGE' 'RENT' 'OWN' 'NONE' 'ANY']\n",
            "\n",
            "annual_inc , number of NA 0\n",
            "[ 50000.  43000. 135000.  56000.  40000.]\n",
            "\n",
            "verification_status , number of NA 0\n",
            "['Source Verified' 'Not Verified' 'Verified']\n",
            "\n",
            "purpose , number of NA 0\n",
            "['other' 'debt_consolidation' 'home_improvement' 'credit_card'\n",
            " 'major_purchase']\n",
            "\n",
            "dti , number of NA 0\n",
            "[15.63 21.8  12.55 17.9   8.85]\n",
            "\n",
            "delinq_2yrs , number of NA 0\n",
            "[0. 1. 2. 4. 3.]\n",
            "\n",
            "earliest_cr_line , number of NA 0\n",
            "['Apr-2005' 'Oct-1995' 'Aug-2005' 'Aug-1995' 'Mar-1997']\n",
            "\n",
            "fico_range_low , number of NA 0\n",
            "[675. 670. 695. 775. 700.]\n",
            "\n",
            "fico_range_high , number of NA 0\n",
            "[679. 674. 699. 779. 704.]\n",
            "\n",
            "inq_last_6mths , number of NA 0\n",
            "[0. 1. 2. 3. 4.]\n",
            "\n",
            "open_acc , number of NA 0\n",
            "[14.  3. 21. 13.  7.]\n",
            "\n",
            "pub_rec , number of NA 0\n",
            "[0. 1. 2. 3. 4.]\n",
            "\n",
            "revol_bal , number of NA 0\n",
            "[12831. 18537. 22515.  6665.  9227.]\n",
            "\n",
            "revol_util , number of NA 99\n",
            "['30.3%' '99.1%' '49.1%' '24%' '55.9%']\n",
            "\n",
            "total_acc , number of NA 0\n",
            "[30.  8. 28. 15. 18.]\n",
            "\n",
            "total_pymnt , number of NA 0\n",
            "[ 1925.29        3038.55        7356.87       12773.27239645\n",
            " 10970.7137135 ]\n",
            "\n",
            "total_rec_late_fee , number of NA 0\n",
            "[ 0.   23.59 85.1  21.88 25.94]\n",
            "\n",
            "last_credit_pull_d , number of NA 0\n",
            "['Jun-2018' 'May-2018' 'Feb-2018' 'Jun-2017' 'Nov-2017']\n",
            "\n",
            "last_fico_range_high , number of NA 0\n",
            "[569. 524. 574. 704. 719.]\n",
            "\n",
            "last_fico_range_low , number of NA 0\n",
            "[565. 520. 570. 700. 715.]\n",
            "\n",
            "application_type , number of NA 0\n",
            "['Individual' 'Joint App']\n",
            "\n",
            "tot_coll_amt , number of NA 0\n",
            "[271.   0. 531.  63. 100.]\n",
            "\n",
            "tot_cur_bal , number of NA 0\n",
            "[161061.  26572.  55911. 139230.   9227.]\n",
            "\n",
            "open_acc_6m , number of NA 0\n",
            "[3. 0. 5. 2. 1.]\n",
            "\n",
            "open_act_il , number of NA 0\n",
            "[ 2.  1. 13.  0.  4.]\n",
            "\n",
            "open_il_12m , number of NA 0\n",
            "[1. 0. 2. 3. 4.]\n",
            "\n",
            "open_il_24m , number of NA 0\n",
            "[2. 0. 1. 3. 6.]\n",
            "\n",
            "mths_since_rcnt_il , number of NA 0\n",
            "[ 10.  25.   3.  13. 139.]\n",
            "\n",
            "total_bal_il , number of NA 0\n",
            "[38760.  8035. 33396. 14875.     0.]\n",
            "\n",
            "open_rv_12m , number of NA 0\n",
            "[4. 0. 1. 2. 3.]\n",
            "\n",
            "open_rv_24m , number of NA 0\n",
            "[8. 0. 9. 3. 6.]\n",
            "\n",
            "max_bal_bc , number of NA 0\n",
            "[ 5338. 18537.  7275.  1835.  5454.]\n",
            "\n",
            "all_util , number of NA 0\n",
            "[65. 70. 54. 42. 56.]\n",
            "\n",
            "total_rev_hi_lim , number of NA 0\n",
            "[42300. 18700. 45900. 27800. 16500.]\n",
            "\n",
            "inq_fi , number of NA 0\n",
            "[4. 0. 2. 1. 3.]\n",
            "\n",
            "total_cu_tl , number of NA 0\n",
            "[1. 0. 8. 3. 9.]\n",
            "\n",
            "inq_last_12m , number of NA 0\n",
            "[7. 0. 2. 1. 4.]\n",
            "\n",
            "acc_open_past_24mths , number of NA 0\n",
            "[10.  0.  4.  3.  8.]\n",
            "\n",
            "avg_cur_bal , number of NA 0\n",
            "[12389.  8857.  2662. 10710.  1318.]\n",
            "\n",
            "bc_open_to_buy , number of NA 0\n",
            "[24145.   163. 19763. 17592.  1691.]\n",
            "\n",
            "bc_util , number of NA 0\n",
            "[33.1 99.1 50.1 20.  79.4]\n",
            "\n",
            "mo_sin_old_il_acct , number of NA 0\n",
            "[131. 257. 139. 248. 234.]\n",
            "\n",
            "mo_sin_old_rev_tl_op , number of NA 0\n",
            "[143. 137.  24. 259. 240.]\n",
            "\n",
            "mo_sin_rcnt_rev_tl_op , number of NA 0\n",
            "[ 4. 60.  2. 33.  8.]\n",
            "\n",
            "mo_sin_rcnt_tl , number of NA 0\n",
            "[ 4. 25.  2. 13.  8.]\n",
            "\n",
            "mort_acc , number of NA 0\n",
            "[4. 0. 5. 2. 6.]\n",
            "\n",
            "mths_since_recent_bc , number of NA 0\n",
            "[  4. 137.   2.  33.  31.]\n",
            "\n",
            "num_accts_ever_120_pd , number of NA 0\n",
            "[0. 2. 4. 1. 5.]\n",
            "\n",
            "num_actv_bc_tl , number of NA 0\n",
            "[4. 1. 6. 2. 9.]\n",
            "\n",
            "num_actv_rev_tl , number of NA 0\n",
            "[5. 1. 7. 4. 8.]\n",
            "\n",
            "num_bc_sats , number of NA 0\n",
            "[7. 1. 6. 2. 9.]\n",
            "\n",
            "num_bc_tl , number of NA 0\n",
            "[11.  2.  6.  7.  3.]\n",
            "\n",
            "num_il_tl , number of NA 0\n",
            "[ 9.  5. 19.  2.  4.]\n",
            "\n",
            "num_op_rev_tl , number of NA 0\n",
            "[11.  1.  8. 10.  7.]\n",
            "\n",
            "num_rev_accts , number of NA 0\n",
            "[16.  3.  9. 14. 11.]\n",
            "\n",
            "num_rev_tl_bal_gt_0 , number of NA 0\n",
            "[5. 1. 7. 4. 8.]\n",
            "\n",
            "num_sats , number of NA 0\n",
            "[14.  3. 21. 13.  7.]\n",
            "\n",
            "num_tl_120dpd_2m , number of NA 0\n",
            "[0. 1. 2. 3.]\n",
            "\n",
            "num_tl_30dpd , number of NA 0\n",
            "[0. 1. 2. 3.]\n",
            "\n",
            "num_tl_90g_dpd_24m , number of NA 0\n",
            "[0. 1. 2. 3. 4.]\n",
            "\n",
            "num_tl_op_past_12m , number of NA 0\n",
            "[5. 0. 1. 2. 3.]\n",
            "\n",
            "pct_tl_nvr_dlq , number of NA 0\n",
            "[100.   87.5  89.7  94.4  87.1]\n",
            "\n",
            "percent_bc_gt_75 , number of NA 0\n",
            "[ 14.3 100.   16.7   0.   50. ]\n",
            "\n",
            "pub_rec_bankruptcies , number of NA 0\n",
            "[0. 1. 2. 3. 4.]\n",
            "\n",
            "tax_liens , number of NA 0\n",
            "[0. 1. 3. 2. 6.]\n",
            "\n",
            "tot_hi_cred_lim , number of NA 0\n",
            "[205671.  38058. 102864. 172161.  16500.]\n",
            "\n",
            "total_bal_ex_mort , number of NA 0\n",
            "[51591. 26572. 55911. 21540.  9227.]\n",
            "\n",
            "total_bc_limit , number of NA 0\n",
            "[36100. 18700. 39600. 22000.  8200.]\n",
            "\n",
            "total_il_high_credit_limit , number of NA 0\n",
            "[36876. 19358. 56964. 23500.     0.]\n",
            "\n"
          ],
          "name": "stdout"
        }
      ]
    },
    {
      "metadata": {
        "id": "r3xxDlMj9nk8",
        "colab_type": "text"
      },
      "cell_type": "markdown",
      "source": [
        "## Pre-Processing: \n",
        "\n",
        "In this section we will normalize the data and convert the strings that should be numerical maning such as zipcode, revol_util...etc. The data will be standardized to the highest value possible, so the data should be between 0 to 1. \n",
        "we will also change the categorical data to labels. \n",
        "Not all columns are treated the same the ones that need special parsing and processing for example are zipcode, all the dates, emp_length, and revol_util. \n"
      ]
    },
    {
      "metadata": {
        "id": "jylRFkJPBqQl",
        "colab_type": "code",
        "colab": {}
      },
      "cell_type": "code",
      "source": [
        "loans_filtered_copy = loans_filtered.copy()"
      ],
      "execution_count": 0,
      "outputs": []
    },
    {
      "metadata": {
        "id": "QRIWOatCD2OQ",
        "colab_type": "code",
        "colab": {}
      },
      "cell_type": "code",
      "source": [
        "def standardize_to_max_value(df, cols):\n",
        "  df_copy = df.copy()\n",
        "  for col in cols:\n",
        "    values = df_copy[col].values\n",
        "    values = values / (max(values)*1.1)\n",
        "    df_copy.loc[:,col] = values\n",
        "  return df_copy\n",
        "def convert_string_to_cat_integers(df, cols):\n",
        "  df_copy = df.copy()\n",
        "  for col in cols: \n",
        "    values = df_copy[col].values\n",
        "    values = LabelEncoder().fit_transform(values)\n",
        "    df_copy.loc[:,col] = values\n",
        "  return df_copy\n",
        "def parse_dates_to_previous_no_days(df, cols):\n",
        "  df_copy = df.copy()\n",
        "  now = datetime.datetime.now()\n",
        "  for col in cols: \n",
        "    values = df_copy[col].values\n",
        "    values = np.array([0 if x == 'unkown' else int((now - parse(x)).days/30) for x in values])\n",
        "    df_copy.loc[:,col] = values\n",
        "  return df_copy"
      ],
      "execution_count": 0,
      "outputs": []
    },
    {
      "metadata": {
        "id": "YIhyugMIIfQH",
        "colab_type": "code",
        "colab": {
          "base_uri": "https://localhost:8080/",
          "height": 119
        },
        "outputId": "40903a7f-fce2-4f40-8ee3-9802acf6b86d"
      },
      "cell_type": "code",
      "source": [
        "emp_length = loans_filtered_copy.emp_length.values\n",
        "t = []\n",
        "for x in emp_length: \n",
        "  x = ''.join(e for e in x if e.isalnum())\n",
        "  x = x.strip('years')\n",
        "  x = x.strip('year')\n",
        "  t.append(int(x))\n",
        "emp_length = np.array(t)\n",
        "loans_filtered.emp_length = emp_length\n",
        "loans_filtered.emp_length.head()"
      ],
      "execution_count": 0,
      "outputs": [
        {
          "output_type": "execute_result",
          "data": {
            "text/plain": [
              "0     8\n",
              "1    10\n",
              "2     1\n",
              "3    10\n",
              "4    10\n",
              "Name: emp_length, dtype: int64"
            ]
          },
          "metadata": {
            "tags": []
          },
          "execution_count": 22
        }
      ]
    },
    {
      "metadata": {
        "id": "hpU8dSazCRT7",
        "colab_type": "code",
        "colab": {
          "base_uri": "https://localhost:8080/",
          "height": 119
        },
        "outputId": "3084abb0-7806-43ed-cd12-8b810e836820"
      },
      "cell_type": "code",
      "source": [
        "revol_util = loans_filtered_copy.revol_util.values\n",
        "revol_util = np.array([float(x.strip('%')) for x in revol_util.astype(str)])\n",
        "loans_filtered.revol_util = revol_util\n",
        "loans_filtered.loc[loans_filtered.revol_util.isna(),'revol_util'] =  loans_filtered.revol_util.median()\n",
        "loans_filtered.revol_util.head()\n"
      ],
      "execution_count": 0,
      "outputs": [
        {
          "output_type": "execute_result",
          "data": {
            "text/plain": [
              "0    30.3\n",
              "1    99.1\n",
              "2    49.1\n",
              "3    24.0\n",
              "4    55.9\n",
              "Name: revol_util, dtype: float64"
            ]
          },
          "metadata": {
            "tags": []
          },
          "execution_count": 23
        }
      ]
    },
    {
      "metadata": {
        "id": "AOSTX4l5NKAr",
        "colab_type": "code",
        "colab": {}
      },
      "cell_type": "code",
      "source": [
        "loans_filtered_copy2 = loans_filtered.copy()\n",
        "loans_filtered_processed = parse_dates_to_previous_no_days(loans_filtered_copy2,['earliest_cr_line','last_credit_pull_d'])\n",
        "loans_filtered_processed = convert_string_to_cat_integers(loans_filtered_processed,['home_ownership','verification_status','purpose',\n",
        "                                                                      'application_type'])\n",
        "loans_filtered_processed = standardize_to_max_value(loans_filtered_processed,loans_filtered_processed.columns.values)"
      ],
      "execution_count": 0,
      "outputs": []
    },
    {
      "metadata": {
        "id": "piba5YAQPLnn",
        "colab_type": "code",
        "colab": {
          "base_uri": "https://localhost:8080/",
          "height": 102
        },
        "outputId": "82005c4d-43b5-43d7-9c67-6129c4eae1ca"
      },
      "cell_type": "code",
      "source": [
        "d = pd.read_csv('/content/loan_data/column_names.csv').iloc[:,0:2]\n",
        "col_indx = [True if x in loans_filtered_processed.columns else False for x in d.iloc[:,0]]\n",
        "d.iloc[col_indx,:].to_csv('loan_data/required_data.csv')\n",
        "! cd loan_data && git config --global user.email hesham.m.mahrous@gmail.com && git add --all && git commit -m 'required data' && git push && Thisisme2"
      ],
      "execution_count": 0,
      "outputs": [
        {
          "output_type": "stream",
          "text": [
            "On branch master\r\n",
            "Your branch is ahead of 'origin/master' by 1 commit.\r\n",
            "  (use \"git push\" to publish your local commits)\r\n",
            "\r\n",
            "nothing to commit, working tree clean\r\n"
          ],
          "name": "stdout"
        }
      ]
    },
    {
      "metadata": {
        "id": "05lyTbNtSdBP",
        "colab_type": "code",
        "colab": {
          "base_uri": "https://localhost:8080/",
          "height": 34
        },
        "outputId": "4de20913-3e73-4bc1-d172-4d7fe9456306"
      },
      "cell_type": "code",
      "source": [
        "! cd loan_data  && git push && Thisisme2"
      ],
      "execution_count": 0,
      "outputs": [
        {
          "output_type": "stream",
          "text": [
            "Password for 'https://heshammahrous@bitbucket.org': "
          ],
          "name": "stdout"
        }
      ]
    },
    {
      "metadata": {
        "id": "rVLieMWCpqsZ",
        "colab_type": "code",
        "colab": {
          "base_uri": "https://localhost:8080/",
          "height": 3621
        },
        "outputId": "342a202a-bdc8-421c-c2fb-669fd2bcfe61"
      },
      "cell_type": "code",
      "source": [
        "columns = loans_filtered_processed.columns.values \n",
        "for col in columns: \n",
        "  print (col, ', number of NA', loans_filtered_processed[col].isnull().sum())\n",
        "  print (loans_filtered_processed[col].unique()[0:10]) "
      ],
      "execution_count": 0,
      "outputs": [
        {
          "output_type": "stream",
          "text": [
            "loan_amnt , number of NA 0\n",
            "[0.19090909 0.31818182 0.45454545 0.27272727 0.22727273 0.10909091\n",
            " 0.11363636 0.79545455 0.38636364 0.09090909]\n",
            "funded_amnt , number of NA 0\n",
            "[0.19090909 0.31818182 0.45454545 0.27272727 0.22727273 0.10909091\n",
            " 0.11363636 0.79545455 0.38636364 0.09090909]\n",
            "emp_length , number of NA 0\n",
            "[0.72727273 0.90909091 0.09090909 0.18181818 0.27272727 0.45454545\n",
            " 0.81818182 0.63636364 0.36363636 0.54545455]\n",
            "home_ownership , number of NA 0\n",
            "[0.22727273 0.90909091 0.68181818 0.45454545 0.        ]\n",
            "annual_inc , number of NA 0\n",
            "[0.00477315 0.00410491 0.0128875  0.00534592 0.00381852 0.01527407\n",
            " 0.00649148 0.01088278 0.01145555 0.01384213]\n",
            "verification_status , number of NA 0\n",
            "[0.45454545 0.         0.90909091]\n",
            "purpose , number of NA 0\n",
            "[0.60606061 0.15151515 0.22727273 0.07575758 0.37878788 0.\n",
            " 0.45454545 0.83333333 0.53030303 0.3030303 ]\n",
            "dti , number of NA 0\n",
            "[0.01422331 0.01983802 0.01142051 0.01628902 0.00805351 0.01152061\n",
            " 0.02047502 0.01277641 0.00765311 0.03058513]\n",
            "delinq_2yrs , number of NA 0\n",
            "[0.         0.03636364 0.07272727 0.14545455 0.10909091 0.18181818\n",
            " 0.21818182 0.25454545 0.36363636 0.29090909]\n",
            "earliest_cr_line , number of NA 0\n",
            "[0.18271494 0.31274521 0.17823114 0.31498711 0.2925681  0.18047304\n",
            " 0.20961776 0.27014909 0.17598924 0.17711019]\n",
            "fico_range_low , number of NA 0\n",
            "[0.72619688 0.72081764 0.74771382 0.8337816  0.75309306 0.80150619\n",
            " 0.71005917 0.79074771 0.7584723  0.73157612]\n",
            "fico_range_high , number of NA 0\n",
            "[0.72620321 0.72085561 0.74759358 0.83315508 0.75294118 0.80106952\n",
            " 0.71016043 0.79037433 0.75828877 0.7315508 ]\n",
            "inq_last_6mths , number of NA 0\n",
            "[0.         0.18181818 0.36363636 0.54545455 0.72727273 0.90909091]\n",
            "open_acc , number of NA 0\n",
            "[0.14799154 0.03171247 0.22198732 0.13742072 0.07399577 0.06342495\n",
            " 0.17970402 0.09513742 0.10570825 0.16913319]\n",
            "pub_rec , number of NA 0\n",
            "[0.         0.03246753 0.06493506 0.0974026  0.12987013 0.16233766\n",
            " 0.19480519 0.61688312 0.29220779 0.90909091]\n",
            "revol_bal , number of NA 0\n",
            "[0.00687445 0.00993155 0.01206284 0.0035709  0.00494354 0.00907057\n",
            " 0.00550556 0.01912374 0.00825406 0.00235095]\n",
            "revol_util , number of NA 0\n",
            "[0.17356934 0.56768059 0.28126253 0.13748067 0.32021539 0.07676004\n",
            " 0.51612534 0.42848141 0.18101621 0.19018159]\n",
            "total_acc , number of NA 0\n",
            "[0.18939394 0.05050505 0.17676768 0.09469697 0.11363636 0.19570707\n",
            " 0.21464646 0.20833333 0.3030303  0.15782828]\n",
            "total_pymnt , number of NA 0\n",
            "[0.03435057 0.05421309 0.13125953 0.22789769 0.19573687 0.09007782\n",
            " 0.0922224  0.65791639 0.30835566 0.01615286]\n",
            "total_rec_late_fee , number of NA 0\n",
            "[0.         0.03545993 0.1279203  0.0328895  0.03899239 0.02254764\n",
            " 0.04509529 0.09244534 0.03753431 0.14701063]\n",
            "last_credit_pull_d , number of NA 0\n",
            "[0.12987013 0.17316017 0.3030303  0.64935065 0.43290043 0.51948052\n",
            " 0.25974026 0.47619048 0.21645022 0.60606061]\n",
            "last_fico_range_high , number of NA 0\n",
            "[0.60855615 0.56042781 0.61390374 0.75294118 0.76898396 0.82780749\n",
            " 0.72085561 0.75828877 0.80106952 0.58716578]\n",
            "last_fico_range_low , number of NA 0\n",
            "[0.60785368 0.55944056 0.61323292 0.75309306 0.76923077 0.82840237\n",
            " 0.72081764 0.7584723  0.80150619 0.58633674]\n",
            "application_type , number of NA 0\n",
            "[0.         0.90909091]\n",
            "tot_coll_amt , number of NA 0\n",
            "[4.69050093e-05 0.00000000e+00 9.19061252e-05 1.09041166e-05\n",
            " 1.73081215e-05 6.87132424e-05 1.89523931e-04 8.82714197e-06\n",
            " 2.35390453e-05 5.60783137e-05]\n",
            "tot_cur_bal , number of NA 0\n",
            "[0.04104997 0.00677246 0.01425016 0.03548586 0.00235171 0.00968132\n",
            " 0.00921822 0.10044157 0.07410231 0.03471563]\n",
            "open_acc_6m , number of NA 0\n",
            "[0.17045455 0.         0.28409091 0.11363636 0.05681818 0.39772727\n",
            " 0.22727273 0.34090909 0.51136364 0.45454545]\n",
            "open_act_il , number of NA 0\n",
            "[0.03189793 0.01594896 0.20733652 0.         0.06379585 0.04784689\n",
            " 0.09569378 0.22328549 0.07974482 0.11164274]\n",
            "open_il_12m , number of NA 0\n",
            "[0.08264463 0.         0.16528926 0.24793388 0.33057851 0.41322314\n",
            " 0.49586777 0.5785124  0.66115702 0.90909091]\n",
            "open_il_24m , number of NA 0\n",
            "[0.07905138 0.         0.03952569 0.11857708 0.23715415 0.15810277\n",
            " 0.35573123 0.19762846 0.27667984 0.31620553]\n",
            "mths_since_rcnt_il , number of NA 0\n",
            "[0.02195872 0.05489679 0.00658762 0.02854633 0.30522617 0.03952569\n",
            " 0.04172156 0.01976285 0.0153711  0.01756697]\n",
            "total_bal_il , number of NA 0\n",
            "[0.02059391 0.00426914 0.01774392 0.00790336 0.         0.01118691\n",
            " 0.0137569  0.02448635 0.01768016 0.07003842]\n",
            "open_rv_12m , number of NA 0\n",
            "[0.12987013 0.         0.03246753 0.06493506 0.0974026  0.25974026\n",
            " 0.22727273 0.16233766 0.19480519 0.29220779]\n",
            "open_rv_24m , number of NA 0\n",
            "[0.16161616 0.         0.18181818 0.06060606 0.12121212 0.02020202\n",
            " 0.04040404 0.08080808 0.1010101  0.14141414]\n",
            "max_bal_bc , number of NA 0\n",
            "[0.01611078 0.05594707 0.0219569  0.00553827 0.01646088 0.02989759\n",
            " 0.01286025 0.03146099 0.017146   0.00742762]\n",
            "all_util , number of NA 0\n",
            "[0.2472423  0.26626094 0.20540129 0.15975656 0.21300875 0.09128946\n",
            " 0.26245721 0.19399011 0.14834538 0.27767212]\n",
            "total_rev_hi_lim , number of NA 0\n",
            "[0.02331849 0.01030865 0.02530304 0.01532515 0.00909586 0.06940421\n",
            " 0.00628442 0.02629532 0.02690171 0.00727669]\n",
            "inq_fi , number of NA 0\n",
            "[0.11363636 0.         0.05681818 0.02840909 0.08522727 0.19886364\n",
            " 0.22727273 0.14204545 0.17045455 0.25568182]\n",
            "total_cu_tl , number of NA 0\n",
            "[0.01336898 0.         0.10695187 0.04010695 0.12032086 0.02673797\n",
            " 0.0802139  0.06684492 0.09358289 0.05347594]\n",
            "inq_last_12m , number of NA 0\n",
            "[0.14141414 0.         0.04040404 0.02020202 0.08080808 0.12121212\n",
            " 0.06060606 0.1010101  0.18181818 0.16161616]\n",
            "acc_open_past_24mths , number of NA 0\n",
            "[0.19762846 0.         0.07905138 0.05928854 0.15810277 0.03952569\n",
            " 0.11857708 0.256917   0.13833992 0.09881423]\n",
            "avg_cur_bal , number of NA 0\n",
            "[0.02526091 0.01805923 0.00542776 0.02183746 0.00268737 0.0059579\n",
            " 0.01229096 0.05022005 0.06586921 0.02777293]\n",
            "bc_open_to_buy , number of NA 0\n",
            "[7.73690982e-02 5.22309505e-04 6.33276242e-02 5.63709743e-02\n",
            " 5.41856057e-03 3.40004262e-01 3.60169254e-03 4.74564649e-03\n",
            " 1.03801804e-01 1.24969759e-04]\n",
            "bc_util , number of NA 0\n",
            "[0.1631828  0.48856241 0.2469927  0.09859988 0.39144153 0.05176494\n",
            " 0.44419247 0.47081444 0.15874581 0.48511142]\n",
            "mo_sin_old_il_acct , number of NA 0\n",
            "[0.17908407 0.35133288 0.19002051 0.33902939 0.31989064 0.101162\n",
            " 0.22829802 0.21462748 0.1872864  0.20232399]\n",
            "mo_sin_old_rev_tl_op , number of NA 0\n",
            "[0.16645327 0.15946921 0.02793621 0.30147829 0.27936212 0.16412525\n",
            " 0.12920498 0.25608195 0.13851705 0.18973344]\n",
            "mo_sin_rcnt_rev_tl_op , number of NA 0\n",
            "[0.01115449 0.16731735 0.00557724 0.09202454 0.02230898 0.00836587\n",
            " 0.12827663 0.         0.06692694 0.04182934]\n",
            "mo_sin_rcnt_tl , number of NA 0\n",
            "[0.01398601 0.08741259 0.00699301 0.04545455 0.02797203 0.01048951\n",
            " 0.06293706 0.         0.03146853 0.02447552]\n",
            "mort_acc , number of NA 0\n",
            "[0.15810277 0.         0.19762846 0.07905138 0.23715415 0.03952569\n",
            " 0.11857708 0.27667984 0.35573123 0.43478261]\n",
            "mths_since_recent_bc , number of NA 0\n",
            "[0.0065757  0.22521782 0.00328785 0.05424955 0.0509617  0.00986355\n",
            " 0.07562058 0.04274207 0.03945422 0.19727108]\n",
            "num_accts_ever_120_pd , number of NA 0\n",
            "[0.         0.05347594 0.10695187 0.02673797 0.13368984 0.0802139\n",
            " 0.16042781 0.18716578 0.29411765 0.21390374]\n",
            "num_actv_bc_tl , number of NA 0\n",
            "[0.11019284 0.02754821 0.16528926 0.05509642 0.24793388 0.08264463\n",
            " 0.13774105 0.22038567 0.19283747 0.        ]\n",
            "num_actv_rev_tl , number of NA 0\n",
            "[0.07215007 0.01443001 0.1010101  0.05772006 0.11544012 0.15873016\n",
            " 0.14430014 0.04329004 0.02886003 0.08658009]\n",
            "num_bc_sats , number of NA 0\n",
            "[0.14799154 0.02114165 0.12684989 0.0422833  0.19027484 0.0845666\n",
            " 0.21141649 0.10570825 0.06342495 0.16913319]\n",
            "num_bc_tl , number of NA 0\n",
            "[0.15625    0.02840909 0.08522727 0.09943182 0.04261364 0.17045455\n",
            " 0.11363636 0.19886364 0.05681818 0.22727273]\n",
            "num_il_tl , number of NA 0\n",
            "[0.08348794 0.04638219 0.17625232 0.01855288 0.03710575 0.0742115\n",
            " 0.22263451 0.13914657 0.09276438 0.11131725]\n",
            "num_op_rev_tl , number of NA 0\n",
            "[0.14925373 0.01356852 0.10854817 0.13568521 0.09497965 0.05427408\n",
            " 0.18995929 0.08141113 0.12211669 0.17639077]\n",
            "num_rev_accts , number of NA 0\n",
            "[0.11363636 0.02130682 0.06392045 0.09943182 0.078125   0.05681818\n",
            " 0.08522727 0.13494318 0.234375   0.17045455]\n",
            "num_rev_tl_bal_gt_0 , number of NA 0\n",
            "[0.10570825 0.02114165 0.14799154 0.0845666  0.16913319 0.23255814\n",
            " 0.21141649 0.06342495 0.0422833  0.12684989]\n",
            "num_sats , number of NA 0\n",
            "[0.16746411 0.03588517 0.25119617 0.15550239 0.08373206 0.07177033\n",
            " 0.20334928 0.1076555  0.11961722 0.19138756]\n",
            "num_tl_120dpd_2m , number of NA 0\n",
            "[0.         0.3030303  0.60606061 0.90909091]\n",
            "num_tl_30dpd , number of NA 0\n",
            "[0.         0.3030303  0.60606061 0.90909091]\n",
            "num_tl_90g_dpd_24m , number of NA 0\n",
            "[0.         0.03636364 0.07272727 0.10909091 0.14545455 0.25454545\n",
            " 0.21818182 0.32727273 0.18181818 0.29090909]\n",
            "num_tl_op_past_12m , number of NA 0\n",
            "[0.16233766 0.         0.03246753 0.06493506 0.0974026  0.19480519\n",
            " 0.12987013 0.29220779 0.22727273 0.25974026]\n",
            "pct_tl_nvr_dlq , number of NA 0\n",
            "[0.90909091 0.79545455 0.81545455 0.85818182 0.79181818 0.85545455\n",
            " 0.60636364 0.88727273 0.86818182 0.83      ]\n",
            "percent_bc_gt_75 , number of NA 0\n",
            "[0.13       0.90909091 0.15181818 0.         0.45454545 0.68181818\n",
            " 0.18181818 0.60636364 0.72727273 0.30272727]\n",
            "pub_rec_bankruptcies , number of NA 0\n",
            "[0.         0.15151515 0.3030303  0.45454545 0.60606061 0.75757576\n",
            " 0.90909091]\n",
            "tax_liens , number of NA 0\n",
            "[0.         0.03367003 0.1010101  0.06734007 0.2020202  0.16835017\n",
            " 0.13468013 0.3030303  0.90909091 0.23569024]\n",
            "tot_hi_cred_lim , number of NA 0\n",
            "[0.04191332 0.00775577 0.02096247 0.03508438 0.0033625  0.03278952\n",
            " 0.01062001 0.08655027 0.07623125 0.03114943]\n",
            "total_bal_ex_mort , number of NA 0\n",
            "[0.01376162 0.00708794 0.01491396 0.00574568 0.00246125 0.01013229\n",
            " 0.00964762 0.02181437 0.01298566 0.03633275]\n",
            "total_bc_limit , number of NA 0\n",
            "[0.09270673 0.0480226  0.10169492 0.05649718 0.02105804 0.30457114\n",
            " 0.02927581 0.08397535 0.12275295 0.00642013]\n",
            "total_il_high_credit_limit , number of NA 0\n",
            "[0.01931014 0.01013683 0.02982923 0.01230579 0.         0.01832777\n",
            " 0.02131939 0.02739164 0.020248   0.07312885]\n"
          ],
          "name": "stdout"
        }
      ]
    },
    {
      "metadata": {
        "id": "5N3isLTLweI5",
        "colab_type": "text"
      },
      "cell_type": "markdown",
      "source": [
        "# Feature Selections"
      ]
    },
    {
      "metadata": {
        "id": "bHAqw8bOxPC1",
        "colab_type": "text"
      },
      "cell_type": "markdown",
      "source": [
        "At this point and as you can see in the last output section from pre-processing we can see that all the data are standardized between 0 and 1. In this section we want to learn a little bit about its distributions and see if we want to further exclude some statistically irrelevant distributions to the model. "
      ]
    },
    {
      "metadata": {
        "id": "JegdVMA8y1sY",
        "colab_type": "text"
      },
      "cell_type": "markdown",
      "source": [
        "## Random Forests Feature Selection:"
      ]
    },
    {
      "metadata": {
        "id": "6rJdc9pa2WUY",
        "colab_type": "code",
        "colab": {
          "base_uri": "https://localhost:8080/",
          "height": 1190
        },
        "outputId": "9c9b687b-7bd3-4b25-eeed-9231c674974c"
      },
      "cell_type": "code",
      "source": [
        "from sklearn.ensemble import RandomForestClassifier\n",
        "\n",
        "def evaluate_rf(x_test,y_test, y_test_encoded,rf,feature_list,threshold = 0.5): \n",
        "  def get_labels(y):\n",
        "    return [ np.argmax(x) for x in y ]\n",
        "  scores = rf.score(x_test, y_test_encoded)\n",
        "  print(\"====================[TEST SCORE]====================\")\n",
        "  print(\"%acc: \", (scores*100))\n",
        "  prediction = rf.predict_proba(x_test)\n",
        "  pred = [ 1 if x[1] > threshold else 0 for x in prediction]\n",
        "  #pred = get_labels(prediction)\n",
        "  C = confusion_matrix(y_test, pred)\n",
        "  print ('Confusion Matrix')\n",
        "  print (C)\n",
        "  print ('Classiication Report')\n",
        "  print (classification_report(y_test, pred))\n",
        "\n",
        "def feature_importance(rf,feature_list):\n",
        "  print(\"====================[Feature Importance]====================\")\n",
        "  # Get numerical feature importances\n",
        "  importances = list(rf.feature_importances_)\n",
        "  # List of tuples with variable and importance\n",
        "  feature_importances = [(feature, round(importance, 2)) for feature, importance in zip(feature_list, importances)]\n",
        "  # Sort the feature importances by most important first\n",
        "  feature_importances = sorted(feature_importances, key = lambda x: x[1], reverse = True)\n",
        "  # Print out the feature and importances \n",
        "  [print('Variable: {:20} Importance: {}'.format(*pair)) for pair in feature_importances];\n",
        "  return feature_importances\n",
        "\n",
        "financial_columns=['total_pymnt','funded_amnt','tot_coll_amt','total_rec_late_fee']\n",
        "loans_filtered_processed_after_drops = loans_filtered_processed.drop(financial_columns,axis =1)\n",
        "feature_list = list(loans_filtered_processed_after_drops.columns)\n",
        "x = loans_filtered_processed_after_drops.values\n",
        "indx = [i for i in range(len(x))]\n",
        "indx = [i for i in range(len(x))]\n",
        "random.shuffle(indx)\n",
        "random.shuffle(indx)\n",
        "row_train = int(len(indx)*0.6)\n",
        "x = (x-x.mean())/x.std()\n",
        "x_train, y_train = x[indx[:row_train]], y[indx[:row_train]]\n",
        "\n",
        "clf = RandomForestClassifier(n_estimators=200)\n",
        "clf.fit(x_train, y_train)\n",
        "feature_list = list(loans_filtered_processed_after_drops.columns)\n",
        "feature_importances = feature_importance(clf,feature_list)\n",
        "unwanted_features = [x[0] for x in feature_importances if x[1]==0.0] \n"
      ],
      "execution_count": 0,
      "outputs": [
        {
          "output_type": "stream",
          "text": [
            "====================[Feature Importance]====================\n",
            "Variable: last_fico_range_low  Importance: 0.24\n",
            "Variable: last_fico_range_high Importance: 0.23\n",
            "Variable: last_credit_pull_d   Importance: 0.06\n",
            "Variable: loan_amnt            Importance: 0.02\n",
            "Variable: dti                  Importance: 0.02\n",
            "Variable: emp_length           Importance: 0.01\n",
            "Variable: annual_inc           Importance: 0.01\n",
            "Variable: earliest_cr_line     Importance: 0.01\n",
            "Variable: fico_range_low       Importance: 0.01\n",
            "Variable: fico_range_high      Importance: 0.01\n",
            "Variable: open_acc             Importance: 0.01\n",
            "Variable: revol_bal            Importance: 0.01\n",
            "Variable: revol_util           Importance: 0.01\n",
            "Variable: total_acc            Importance: 0.01\n",
            "Variable: application_type     Importance: 0.01\n",
            "Variable: tot_cur_bal          Importance: 0.01\n",
            "Variable: mths_since_rcnt_il   Importance: 0.01\n",
            "Variable: total_bal_il         Importance: 0.01\n",
            "Variable: open_rv_24m          Importance: 0.01\n",
            "Variable: max_bal_bc           Importance: 0.01\n",
            "Variable: all_util             Importance: 0.01\n",
            "Variable: total_rev_hi_lim     Importance: 0.01\n",
            "Variable: inq_last_12m         Importance: 0.01\n",
            "Variable: acc_open_past_24mths Importance: 0.01\n",
            "Variable: avg_cur_bal          Importance: 0.01\n",
            "Variable: bc_open_to_buy       Importance: 0.01\n",
            "Variable: bc_util              Importance: 0.01\n",
            "Variable: mo_sin_old_il_acct   Importance: 0.01\n",
            "Variable: mo_sin_old_rev_tl_op Importance: 0.01\n",
            "Variable: mo_sin_rcnt_rev_tl_op Importance: 0.01\n",
            "Variable: mo_sin_rcnt_tl       Importance: 0.01\n",
            "Variable: mort_acc             Importance: 0.01\n",
            "Variable: mths_since_recent_bc Importance: 0.01\n",
            "Variable: num_actv_rev_tl      Importance: 0.01\n",
            "Variable: num_bc_sats          Importance: 0.01\n",
            "Variable: num_bc_tl            Importance: 0.01\n",
            "Variable: num_il_tl            Importance: 0.01\n",
            "Variable: num_op_rev_tl        Importance: 0.01\n",
            "Variable: num_rev_accts        Importance: 0.01\n",
            "Variable: num_rev_tl_bal_gt_0  Importance: 0.01\n",
            "Variable: num_sats             Importance: 0.01\n",
            "Variable: pct_tl_nvr_dlq       Importance: 0.01\n",
            "Variable: percent_bc_gt_75     Importance: 0.01\n",
            "Variable: tot_hi_cred_lim      Importance: 0.01\n",
            "Variable: total_bal_ex_mort    Importance: 0.01\n",
            "Variable: total_bc_limit       Importance: 0.01\n",
            "Variable: total_il_high_credit_limit Importance: 0.01\n",
            "Variable: home_ownership       Importance: 0.0\n",
            "Variable: verification_status  Importance: 0.0\n",
            "Variable: purpose              Importance: 0.0\n",
            "Variable: delinq_2yrs          Importance: 0.0\n",
            "Variable: inq_last_6mths       Importance: 0.0\n",
            "Variable: pub_rec              Importance: 0.0\n",
            "Variable: open_acc_6m          Importance: 0.0\n",
            "Variable: open_act_il          Importance: 0.0\n",
            "Variable: open_il_12m          Importance: 0.0\n",
            "Variable: open_il_24m          Importance: 0.0\n",
            "Variable: open_rv_12m          Importance: 0.0\n",
            "Variable: inq_fi               Importance: 0.0\n",
            "Variable: total_cu_tl          Importance: 0.0\n",
            "Variable: num_accts_ever_120_pd Importance: 0.0\n",
            "Variable: num_actv_bc_tl       Importance: 0.0\n",
            "Variable: num_tl_120dpd_2m     Importance: 0.0\n",
            "Variable: num_tl_30dpd         Importance: 0.0\n",
            "Variable: num_tl_90g_dpd_24m   Importance: 0.0\n",
            "Variable: num_tl_op_past_12m   Importance: 0.0\n",
            "Variable: pub_rec_bankruptcies Importance: 0.0\n",
            "Variable: tax_liens            Importance: 0.0\n"
          ],
          "name": "stdout"
        }
      ]
    },
    {
      "metadata": {
        "id": "bP523EQOwkT2",
        "colab_type": "text"
      },
      "cell_type": "markdown",
      "source": [
        "## Which of these data features available in Flexiti's Data ?\n",
        "\n",
        "For now we need access but from an intial view i think we should find most of them. "
      ]
    },
    {
      "metadata": {
        "id": "GDeYbcl5wxLG",
        "colab_type": "text"
      },
      "cell_type": "markdown",
      "source": [
        "# Machine Learning Models"
      ]
    },
    {
      "metadata": {
        "id": "iBoz1Oia1Pgy",
        "colab_type": "text"
      },
      "cell_type": "markdown",
      "source": [
        "## Split data:"
      ]
    },
    {
      "metadata": {
        "id": "lPu3y21I1UEx",
        "colab_type": "code",
        "colab": {
          "base_uri": "https://localhost:8080/",
          "height": 404
        },
        "outputId": "c68e6da7-ea02-425a-c653-e315df0d618a"
      },
      "cell_type": "code",
      "source": [
        "drops = financial_columns\n",
        "#drops.extend(unwanted_features)\n",
        "# Train-Test split\n",
        "financials = loans_filtered[drops]\n",
        "loans_filtered_processed_after_drops = loans_filtered_processed.drop(drops,axis =1)\n",
        "feature_list = list(loans_filtered_processed_after_drops.columns)\n",
        "x = loans_filtered_processed_after_drops.values\n",
        "indx = [i for i in range(len(x))]\n",
        "indx = [i for i in range(len(x))]\n",
        "random.shuffle(indx)\n",
        "random.shuffle(indx)\n",
        "row_train = int(len(indx)*0.6)\n",
        "x = (x-x.mean())/x.std()\n",
        "x_train, x_test, y_train, y_test = x[indx[:row_train]], x[indx[row_train:]], y[indx[:row_train]], y[indx[row_train:]]\n",
        "financials_test = financials.loc[indx[row_train:],:]\n",
        "                                   \n",
        "print(\"Shape of x_train:\", x_train.shape)\n",
        "print(\"Shape of y_train:\", y_train.shape)\n",
        "print(\"Shape of x_test:\", x_test.shape)\n",
        "print(\"Shape of y_test:\", y_test.shape)\n",
        "sns.countplot(y)\n"
      ],
      "execution_count": 0,
      "outputs": [
        {
          "output_type": "stream",
          "text": [
            "Shape of x_train: (66535, 47)\n",
            "Shape of y_train: (66535,)\n",
            "Shape of x_test: (44357, 47)\n",
            "Shape of y_test: (44357,)\n"
          ],
          "name": "stdout"
        },
        {
          "output_type": "stream",
          "text": [
            "/usr/local/lib/python3.6/dist-packages/seaborn/categorical.py:1428: FutureWarning: remove_na is deprecated and is a private function. Do not use.\n",
            "  stat_data = remove_na(group_data)\n"
          ],
          "name": "stderr"
        },
        {
          "output_type": "execute_result",
          "data": {
            "text/plain": [
              "<matplotlib.axes._subplots.AxesSubplot at 0x7fc832354780>"
            ]
          },
          "metadata": {
            "tags": []
          },
          "execution_count": 112
        },
        {
          "output_type": "display_data",
          "data": {
            "image/png": "[encoded data removed]",
            "text/plain": [
              "<matplotlib.figure.Figure at 0x7fc839631d30>"
            ]
          },
          "metadata": {
            "tags": []
          }
        }
      ]
    },
    {
      "metadata": {
        "id": "lkLRztdO2YNw",
        "colab_type": "code",
        "colab": {}
      },
      "cell_type": "code",
      "source": [
        "def encode_neural_net_y(y):\n",
        "    encoder = LabelEncoder()\n",
        "    encoder.fit(y)\n",
        "    encoded_y = encoder.transform(y)\n",
        "    new_y = np_utils.to_categorical(encoded_y)\n",
        "    return new_y\n",
        "\n",
        "# Neural Network model\n",
        "y_train_encoded = y_train#encode_neural_net_y(y_train)\n",
        "y_test_encoded = y_test #encode_neural_net_y(y_test)"
      ],
      "execution_count": 0,
      "outputs": []
    },
    {
      "metadata": {
        "id": "k7ktm6bm222y",
        "colab_type": "text"
      },
      "cell_type": "markdown",
      "source": [
        "## Deep Dense Network: "
      ]
    },
    {
      "metadata": {
        "id": "meSxWFbM259O",
        "colab_type": "code",
        "colab": {
          "base_uri": "https://localhost:8080/",
          "height": 442
        },
        "outputId": "6db0983f-f0bf-43c2-bef1-2053a56e7e88"
      },
      "cell_type": "code",
      "source": [
        "from keras.models import Sequential\n",
        "from keras.layers import Dense,LSTM\n",
        "from keras.layers.normalization import BatchNormalization\n",
        "from sklearn.utils import class_weight\n",
        "\n",
        "# create model\n",
        "model = Sequential()\n",
        "model.add(Dense(64, activation='relu',input_dim=x_train.shape[1]))\n",
        "model.add(BatchNormalization())\n",
        "model.add(Dense(128,activation='relu'))\n",
        "model.add(BatchNormalization())\n",
        "model.add(Dense(256,activation='relu'))\n",
        "model.add(BatchNormalization())\n",
        "model.add(Dense(512,activation='relu'))\n",
        "model.add(BatchNormalization())\n",
        "model.add(Dense(1, activation='sigmoid'))\n",
        "# Compile model\n",
        "model.compile(loss='binary_crossentropy', optimizer='adam', metrics=['acc'])\n",
        "model.summary()"
      ],
      "execution_count": 0,
      "outputs": [
        {
          "output_type": "stream",
          "text": [
            "_________________________________________________________________\n",
            "Layer (type)                 Output Shape              Param #   \n",
            "=================================================================\n",
            "dense_12 (Dense)             (None, 64)                3072      \n",
            "_________________________________________________________________\n",
            "batch_normalization_5 (Batch (None, 64)                256       \n",
            "_________________________________________________________________\n",
            "dense_13 (Dense)             (None, 128)               8320      \n",
            "_________________________________________________________________\n",
            "batch_normalization_6 (Batch (None, 128)               512       \n",
            "_________________________________________________________________\n",
            "dense_14 (Dense)             (None, 256)               33024     \n",
            "_________________________________________________________________\n",
            "batch_normalization_7 (Batch (None, 256)               1024      \n",
            "_________________________________________________________________\n",
            "dense_15 (Dense)             (None, 512)               131584    \n",
            "_________________________________________________________________\n",
            "batch_normalization_8 (Batch (None, 512)               2048      \n",
            "_________________________________________________________________\n",
            "dense_16 (Dense)             (None, 1)                 513       \n",
            "=================================================================\n",
            "Total params: 180,353\n",
            "Trainable params: 178,433\n",
            "Non-trainable params: 1,920\n",
            "_________________________________________________________________\n"
          ],
          "name": "stdout"
        }
      ]
    },
    {
      "metadata": {
        "id": "mIxMfuFe3NCn",
        "colab_type": "code",
        "colab": {
          "base_uri": "https://localhost:8080/",
          "height": 411
        },
        "outputId": "67f13fa2-0747-4346-add8-407db6d304ed"
      },
      "cell_type": "code",
      "source": [
        "cw = class_weight.compute_class_weight('balanced', np.unique(y_train), y_train)\n",
        "model.fit( x_train, y_train_encoded, epochs=10, batch_size=128, verbose=1,validation_data=(x_test, y_test))"
      ],
      "execution_count": 0,
      "outputs": [
        {
          "output_type": "stream",
          "text": [
            "Train on 66535 samples, validate on 44357 samples\n",
            "Epoch 1/10\n",
            "66535/66535 [==============================] - 10s 151us/step - loss: 0.3358 - acc: 0.8634 - val_loss: 0.3182 - val_acc: 0.8687\n",
            "Epoch 2/10\n",
            "66535/66535 [==============================] - 9s 129us/step - loss: 0.2895 - acc: 0.8806 - val_loss: 0.2876 - val_acc: 0.8810\n",
            "Epoch 3/10\n",
            "66535/66535 [==============================] - 9s 129us/step - loss: 0.2743 - acc: 0.8870 - val_loss: 0.2951 - val_acc: 0.8798\n",
            "Epoch 4/10\n",
            "66535/66535 [==============================] - 9s 130us/step - loss: 0.2676 - acc: 0.8887 - val_loss: 0.2710 - val_acc: 0.8868\n",
            "Epoch 5/10\n",
            "66535/66535 [==============================] - 9s 129us/step - loss: 0.2623 - acc: 0.8900 - val_loss: 0.2677 - val_acc: 0.8903\n",
            "Epoch 6/10\n",
            "66535/66535 [==============================] - 9s 137us/step - loss: 0.2606 - acc: 0.8917 - val_loss: 0.2796 - val_acc: 0.8796\n",
            "Epoch 7/10\n",
            "66535/66535 [==============================] - 9s 138us/step - loss: 0.2590 - acc: 0.8926 - val_loss: 0.2722 - val_acc: 0.8872\n",
            "Epoch 8/10\n",
            "66535/66535 [==============================] - 9s 130us/step - loss: 0.2568 - acc: 0.8938 - val_loss: 0.2660 - val_acc: 0.8888\n",
            "Epoch 9/10\n",
            "66535/66535 [==============================] - 9s 131us/step - loss: 0.2540 - acc: 0.8954 - val_loss: 0.2651 - val_acc: 0.8923\n",
            "Epoch 10/10\n",
            "66535/66535 [==============================] - 9s 130us/step - loss: 0.2538 - acc: 0.8944 - val_loss: 0.2649 - val_acc: 0.8912\n"
          ],
          "name": "stdout"
        },
        {
          "output_type": "execute_result",
          "data": {
            "text/plain": [
              "<keras.callbacks.History at 0x7fc831bc5358>"
            ]
          },
          "metadata": {
            "tags": []
          },
          "execution_count": 115
        }
      ]
    },
    {
      "metadata": {
        "id": "0DNtAmsgw01M",
        "colab_type": "text"
      },
      "cell_type": "markdown",
      "source": [
        "### Evaluations and Results"
      ]
    },
    {
      "metadata": {
        "id": "u_ol846X7CQI",
        "colab_type": "code",
        "colab": {
          "base_uri": "https://localhost:8080/",
          "height": 459
        },
        "outputId": "2f7656ce-bc20-4441-8d46-055ba5f74a3e"
      },
      "cell_type": "code",
      "source": [
        "def evaluate_model(x_test,y_test, y_test_encoded,model, threshold = 0.5): \n",
        "  def get_labels(y):\n",
        "    return [ np.argmax(x) for x in y ]\n",
        "  scores = model.evaluate(x_test, y_test_encoded, verbose=0)\n",
        "  print(\"====================[TEST SCORE]====================\")\n",
        "  print(\"%s: %.2f%%\" % (model.metrics_names[1], scores[1]*100))\n",
        "  prediction = model.predict(x_test)\n",
        "  pred = [ 1 if x > threshold else 0 for x in prediction]\n",
        "  #pred = get_labels(prediction)\n",
        "  C = confusion_matrix(y_test, pred)\n",
        "  print ('Confusion Matrix')\n",
        "  print (C)\n",
        "  print ('Classiication Report')\n",
        "  print (classification_report(y_test, pred))\n",
        "  \n",
        "def evaluate_monetry_value(financials_test,prediction,store_percent=0.1):\n",
        "  amnt_paid_borowers = round(sum(financials_test.total_pymnt + financials_test.tot_coll_amt +  financials_test.total_rec_late_fee),2)\n",
        "  amnt_funded_lenders = sum(financials_test.funded_amnt)- (store_percent*sum(financials_test.funded_amnt))\n",
        "  profit1 = round(amnt_paid_borowers-amnt_funded_lenders,2)\n",
        "  per_profit = round(100.0*((amnt_paid_borowers-amnt_funded_lenders)/amnt_funded_lenders ),2)\n",
        "  print('')\n",
        "  print(\"====================[Monetary Value of Current Method]====================\")\n",
        "  print('Total Amount paid by borowers', amnt_paid_borowers )\n",
        "  print('Total Amount funded by lenders', amnt_funded_lenders)\n",
        "  print('Total profits $', profit1)\n",
        "  print('Total %profits', per_profit,'%')\n",
        "  print('')\n",
        "  pred = [True if x == 1 else False for x in prediction ]\n",
        "  financials_test_prediction = financials_test[pred]\n",
        "  amnt_paid_borowers = round(sum(financials_test_prediction.total_pymnt + financials_test_prediction.tot_coll_amt +  financials_test_prediction.total_rec_late_fee),2)\n",
        "  amnt_funded_lenders = sum(financials_test_prediction.funded_amnt)-(store_percent*sum(financials_test_prediction.funded_amnt))\n",
        "  profit = round(amnt_paid_borowers-amnt_funded_lenders,2)\n",
        "  per_profit = round(100.0*((amnt_paid_borowers-amnt_funded_lenders)/amnt_funded_lenders ),2)\n",
        "  print(\"====================[Monetary Value of Model]====================\")\n",
        "  print('Total Amount paid by borowers', amnt_paid_borowers )\n",
        "  print('Total Amount funded by lenders', amnt_funded_lenders)\n",
        "  print('Total profits $', profit)\n",
        "  print('Total %profits', per_profit,'%')\n",
        "  print('Model Added Value $',round(profit - profit1))\n",
        "\n",
        "t = 0.79\n",
        "evaluate_model(x_test,y_test, y_test_encoded,model,threshold = t)\n",
        "prediction = model.predict(x_test)\n",
        "prediction = [ 1 if x > t else 0 for x in prediction]\n",
        "evaluate_monetry_value(financials_test,prediction)"
      ],
      "execution_count": 0,
      "outputs": [
        {
          "output_type": "stream",
          "text": [
            "====================[TEST SCORE]====================\n",
            "acc: 89.12%\n",
            "Confusion Matrix\n",
            "[[11496  1431]\n",
            " [ 5107 26323]]\n",
            "Classiication Report\n",
            "             precision    recall  f1-score   support\n",
            "\n",
            "          0       0.69      0.89      0.78     12927\n",
            "          1       0.95      0.84      0.89     31430\n",
            "\n",
            "avg / total       0.87      0.85      0.86     44357\n",
            "\n",
            "\n",
            "====================[Monetary Value of Current Method]====================\n",
            "Total Amount paid by borowers 532348410.29\n",
            "Total Amount funded by lenders 580639995.0\n",
            "Total profits $ -48291584.71\n",
            "Total %profits -8.32 %\n",
            "\n",
            "====================[Monetary Value of Model]====================\n",
            "Total Amount paid by borowers 396154006.58\n",
            "Total Amount funded by lenders 339115432.5\n",
            "Total profits $ 57038574.08\n",
            "Total %profits 16.82 %\n",
            "Model Added Value $ 105330159\n"
          ],
          "name": "stdout"
        }
      ]
    },
    {
      "metadata": {
        "id": "WZClwnMHxK98",
        "colab_type": "text"
      },
      "cell_type": "markdown",
      "source": [
        "## Random Forests "
      ]
    },
    {
      "metadata": {
        "id": "-6StNIhcOeDq",
        "colab_type": "code",
        "colab": {
          "base_uri": "https://localhost:8080/",
          "height": 459
        },
        "outputId": "320daa11-cd96-4ee7-ba84-4cb13e30dfb1"
      },
      "cell_type": "code",
      "source": [
        "clf = RandomForestClassifier(n_estimators=50)\n",
        "clf.fit(x_train, y_train)\n",
        "evaluate_rf(x_test,y_test, y_test_encoded,clf,feature_list,threshold = t)\n",
        "prediction = clf.predict_proba(x_test)\n",
        "prediction = [ 1 if x[1] > t else 0 for x in prediction]\n",
        "evaluate_monetry_value(financials_test,prediction)"
      ],
      "execution_count": 0,
      "outputs": [
        {
          "output_type": "stream",
          "text": [
            "====================[TEST SCORE]====================\n",
            "%acc:  88.8878869175102\n",
            "Confusion Matrix\n",
            "[[11669  1258]\n",
            " [ 6255 25175]]\n",
            "Classiication Report\n",
            "             precision    recall  f1-score   support\n",
            "\n",
            "          0       0.65      0.90      0.76     12927\n",
            "          1       0.95      0.80      0.87     31430\n",
            "\n",
            "avg / total       0.86      0.83      0.84     44357\n",
            "\n",
            "\n",
            "====================[Monetary Value of Current Method]====================\n",
            "Total Amount paid by borowers 532348410.29\n",
            "Total Amount funded by lenders 580639995.0\n",
            "Total profits $ -48291584.71\n",
            "Total %profits -8.32 %\n",
            "\n",
            "====================[Monetary Value of Model]====================\n",
            "Total Amount paid by borowers 379375106.71\n",
            "Total Amount funded by lenders 323704125.0\n",
            "Total profits $ 55670981.71\n",
            "Total %profits 17.2 %\n",
            "Model Added Value $ 103962566\n"
          ],
          "name": "stdout"
        }
      ]
    },
    {
      "metadata": {
        "id": "qRVE0hfudYgy",
        "colab_type": "text"
      },
      "cell_type": "markdown",
      "source": [
        "## AutoEncoder "
      ]
    },
    {
      "metadata": {
        "id": "n5_btwYCdePa",
        "colab_type": "code",
        "colab": {
          "base_uri": "https://localhost:8080/",
          "height": 1448
        },
        "outputId": "13bb2ef0-682e-40dc-ffac-8b609d996119"
      },
      "cell_type": "code",
      "source": [
        "from keras.layers import Input, Dense \n",
        "from keras.models import Model \n",
        "data_size = x_train.shape[1]\n",
        "epchs = 20\n",
        "input_data = Input(shape=(data_size,))\n",
        "\n",
        "x = Dense(data_size,activation='relu')(input_data)\n",
        "\n",
        "encoded = Dense(data_size//2, activation='relu')(x)\n",
        "#encoded = Dense(data_size//4, activation='relu')(encoded)\n",
        "#encoded = Dense(data_size//8, activation='relu')(encoded)\n",
        "\n",
        "red_data = Dense(data_size//2, activation='relu')(encoded)\n",
        "\n",
        "#decoded = Dense(data_size//8, activation='relu')(red_data)\n",
        "#decoded = Dense(data_size//4, activation='relu')(decoded)\n",
        "decoded = Dense(data_size//2, activation='relu')(red_data)\n",
        "\n",
        "z = Dense(data_size, activation='linear')(decoded)\n",
        "model2 = Model(input_data, z)\n",
        "\n",
        "\n",
        "out = Dense(1, activation='sigmoid')(red_data)\n",
        "reduced = Model(input_data, out)\n",
        "\n",
        "\n",
        "model2.compile(optimizer='adadelta', loss='mse') # reporting the accuracy\n",
        "\n",
        "#x.trainable=False\n",
        "#encoded1.trainable=False\n",
        "#encoded2.trainable=False\n",
        "#y.trainable=False\n",
        "reduced.compile(loss='binary_crossentropy',\n",
        "          optimizer='adam', \n",
        "          metrics=['accuracy']) \n",
        "\n",
        "\n",
        "model2.fit(x_train, x_train,\n",
        "      epochs=epchs,\n",
        "      batch_size=128,\n",
        "      shuffle=True,\n",
        "      validation_data=(x_test, x_test))\n",
        "\n",
        "#for layer in model.layers:\n",
        "#weights = model.layers[1].get_weights() # list of numpy arrays\n",
        "#print(weights)\n",
        "    \n",
        "\n",
        "reduced.fit(x_train, y_train,\n",
        "      epochs=epchs,\n",
        "      batch_size=128,\n",
        "      shuffle=True,\n",
        "            \n",
        "      validation_data=(x_test, y_test))\n",
        "\n",
        "\n"
      ],
      "execution_count": 0,
      "outputs": [
        {
          "output_type": "stream",
          "text": [
            "Train on 66535 samples, validate on 44357 samples\n",
            "Epoch 1/20\n",
            "66535/66535 [==============================] - 2s 26us/step - loss: 0.1538 - val_loss: 0.0734\n",
            "Epoch 2/20\n",
            "66535/66535 [==============================] - 1s 19us/step - loss: 0.0545 - val_loss: 0.0426\n",
            "Epoch 3/20\n",
            "66535/66535 [==============================] - 1s 20us/step - loss: 0.0390 - val_loss: 0.0346\n",
            "Epoch 4/20\n",
            "66535/66535 [==============================] - 1s 19us/step - loss: 0.0344 - val_loss: 0.0344\n",
            "Epoch 5/20\n",
            "66535/66535 [==============================] - 1s 19us/step - loss: 0.0324 - val_loss: 0.0310\n",
            "Epoch 6/20\n",
            "66535/66535 [==============================] - 1s 19us/step - loss: 0.0321 - val_loss: 0.0309\n",
            "Epoch 7/20\n",
            "66535/66535 [==============================] - 1s 19us/step - loss: 0.0315 - val_loss: 0.0334\n",
            "Epoch 8/20\n",
            "66535/66535 [==============================] - 1s 19us/step - loss: 0.0311 - val_loss: 0.0327\n",
            "Epoch 9/20\n",
            "66535/66535 [==============================] - 1s 19us/step - loss: 0.0306 - val_loss: 0.0318\n",
            "Epoch 10/20\n",
            "66535/66535 [==============================] - 1s 19us/step - loss: 0.0297 - val_loss: 0.0300\n",
            "Epoch 11/20\n",
            "66535/66535 [==============================] - 1s 19us/step - loss: 0.0288 - val_loss: 0.0308\n",
            "Epoch 12/20\n",
            "66535/66535 [==============================] - 1s 19us/step - loss: 0.0282 - val_loss: 0.0275\n",
            "Epoch 13/20\n",
            "66535/66535 [==============================] - 1s 20us/step - loss: 0.0278 - val_loss: 0.0284\n",
            "Epoch 14/20\n",
            "66535/66535 [==============================] - 1s 19us/step - loss: 0.0278 - val_loss: 0.0314\n",
            "Epoch 15/20\n",
            "66535/66535 [==============================] - 1s 20us/step - loss: 0.0277 - val_loss: 0.0284\n",
            "Epoch 16/20\n",
            "66535/66535 [==============================] - 1s 19us/step - loss: 0.0276 - val_loss: 0.0262\n",
            "Epoch 17/20\n",
            "66535/66535 [==============================] - 1s 19us/step - loss: 0.0273 - val_loss: 0.0276\n",
            "Epoch 18/20\n",
            "66535/66535 [==============================] - 1s 19us/step - loss: 0.0270 - val_loss: 0.0277\n",
            "Epoch 19/20\n",
            "66535/66535 [==============================] - 1s 19us/step - loss: 0.0271 - val_loss: 0.0294\n",
            "Epoch 20/20\n",
            "66535/66535 [==============================] - 1s 19us/step - loss: 0.0270 - val_loss: 0.0255\n",
            "Train on 66535 samples, validate on 44357 samples\n",
            "Epoch 1/20\n",
            "66535/66535 [==============================] - 2s 24us/step - loss: 0.3669 - acc: 0.8445 - val_loss: 0.3165 - val_acc: 0.8715\n",
            "Epoch 2/20\n",
            "66535/66535 [==============================] - 1s 20us/step - loss: 0.3017 - acc: 0.8760 - val_loss: 0.2992 - val_acc: 0.8788\n",
            "Epoch 3/20\n",
            "66535/66535 [==============================] - 1s 20us/step - loss: 0.2919 - acc: 0.8804 - val_loss: 0.2953 - val_acc: 0.8803\n",
            "Epoch 4/20\n",
            "66535/66535 [==============================] - 1s 20us/step - loss: 0.2894 - acc: 0.8814 - val_loss: 0.2933 - val_acc: 0.8815\n",
            "Epoch 5/20\n",
            "66535/66535 [==============================] - 1s 21us/step - loss: 0.2885 - acc: 0.8815 - val_loss: 0.2947 - val_acc: 0.8807\n",
            "Epoch 6/20\n",
            "66535/66535 [==============================] - 1s 21us/step - loss: 0.2864 - acc: 0.8816 - val_loss: 0.2924 - val_acc: 0.8813\n",
            "Epoch 7/20\n",
            "66535/66535 [==============================] - 1s 21us/step - loss: 0.2828 - acc: 0.8829 - val_loss: 0.3055 - val_acc: 0.8741\n",
            "Epoch 8/20\n",
            "66535/66535 [==============================] - 1s 21us/step - loss: 0.2838 - acc: 0.8831 - val_loss: 0.2884 - val_acc: 0.8828\n",
            "Epoch 9/20\n",
            "66535/66535 [==============================] - 1s 20us/step - loss: 0.2820 - acc: 0.8840 - val_loss: 0.2882 - val_acc: 0.8816\n",
            "Epoch 10/20\n",
            "66535/66535 [==============================] - 1s 19us/step - loss: 0.2820 - acc: 0.8832 - val_loss: 0.2856 - val_acc: 0.8844\n",
            "Epoch 11/20\n",
            "66535/66535 [==============================] - 1s 20us/step - loss: 0.2795 - acc: 0.8842 - val_loss: 0.2933 - val_acc: 0.8802\n",
            "Epoch 12/20\n",
            "66535/66535 [==============================] - 1s 20us/step - loss: 0.2791 - acc: 0.8841 - val_loss: 0.2871 - val_acc: 0.8812\n",
            "Epoch 13/20\n",
            "66535/66535 [==============================] - 1s 20us/step - loss: 0.2807 - acc: 0.8835 - val_loss: 0.2880 - val_acc: 0.8822\n",
            "Epoch 14/20\n",
            "66535/66535 [==============================] - 1s 19us/step - loss: 0.2769 - acc: 0.8857 - val_loss: 0.2892 - val_acc: 0.8824\n",
            "Epoch 15/20\n",
            "66535/66535 [==============================] - 1s 19us/step - loss: 0.2782 - acc: 0.8852 - val_loss: 0.2979 - val_acc: 0.8786\n",
            "Epoch 16/20\n",
            "66535/66535 [==============================] - 1s 19us/step - loss: 0.2764 - acc: 0.8851 - val_loss: 0.2841 - val_acc: 0.8843\n",
            "Epoch 17/20\n",
            "66535/66535 [==============================] - 1s 19us/step - loss: 0.2751 - acc: 0.8855 - val_loss: 0.2852 - val_acc: 0.8841\n",
            "Epoch 18/20\n",
            "66535/66535 [==============================] - 1s 19us/step - loss: 0.2737 - acc: 0.8867 - val_loss: 0.2868 - val_acc: 0.8813\n",
            "Epoch 19/20\n",
            "66535/66535 [==============================] - 1s 19us/step - loss: 0.2742 - acc: 0.8869 - val_loss: 0.2792 - val_acc: 0.8861\n",
            "Epoch 20/20\n",
            "66535/66535 [==============================] - 1s 19us/step - loss: 0.2748 - acc: 0.8857 - val_loss: 0.2850 - val_acc: 0.8824\n"
          ],
          "name": "stdout"
        },
        {
          "output_type": "execute_result",
          "data": {
            "text/plain": [
              "<keras.callbacks.History at 0x7fc831d592b0>"
            ]
          },
          "metadata": {
            "tags": []
          },
          "execution_count": 82
        }
      ]
    },
    {
      "metadata": {
        "id": "FeMsoS-QjWWV",
        "colab_type": "code",
        "colab": {
          "base_uri": "https://localhost:8080/",
          "height": 459
        },
        "outputId": "b565cfcb-65dc-41e8-f6c0-3512ade01ae2"
      },
      "cell_type": "code",
      "source": [
        "evaluate_model(x_test,y_test, y_test_encoded,reduced, t)\n",
        "prediction = reduced.predict(x_test)\n",
        "prediction = [ 1 if x > t else 0 for x in prediction]\n",
        "evaluate_monetry_value(financials_test,prediction)"
      ],
      "execution_count": 0,
      "outputs": [
        {
          "output_type": "stream",
          "text": [
            "====================[TEST SCORE]====================\n",
            "acc: 88.38%\n",
            "Confusion Matrix\n",
            "[[11071  1856]\n",
            " [ 4285 27145]]\n",
            "Classiication Report\n",
            "             precision    recall  f1-score   support\n",
            "\n",
            "          0       0.72      0.86      0.78     12927\n",
            "          1       0.94      0.86      0.90     31430\n",
            "\n",
            "avg / total       0.87      0.86      0.86     44357\n",
            "\n",
            "\n",
            "====================[Monetary Value of Current Method]====================\n",
            "Total Amount paid by borowers 532348410.29\n",
            "Total Amount funded by lenders 580639995.0\n",
            "Total profits $ -48291584.71\n",
            "Total %profits -8.32 %\n",
            "\n",
            "====================[Monetary Value of Model]====================\n",
            "Total Amount paid by borowers 402983160.84\n",
            "Total Amount funded by lenders 347549670.0\n",
            "Total profits $ 55433490.84\n",
            "Total %profits 15.95 %\n",
            "Model Added Value $ 103725076\n"
          ],
          "name": "stdout"
        }
      ]
    },
    {
      "metadata": {
        "id": "JrdF1Tiaw49Y",
        "colab_type": "text"
      },
      "cell_type": "markdown",
      "source": [
        "# Conclusion and Future Directions"
      ]
    },
    {
      "metadata": {
        "id": "EG-zL9EHxAmG",
        "colab_type": "text"
      },
      "cell_type": "markdown",
      "source": [
        "## Finally, How can we implement this shit ?"
      ]
    },
    {
      "metadata": {
        "id": "J8ARZgaAxHcR",
        "colab_type": "text"
      },
      "cell_type": "markdown",
      "source": [
        "# References"
      ]
    },
    {
      "metadata": {
        "id": "th_S07QsDkSM",
        "colab_type": "code",
        "colab": {}
      },
      "cell_type": "code",
      "source": [
        "# Install the PyDrive wrapper & import libraries.\n",
        "# This only needs to be done once per notebook.\n",
        "!pip install -U -q PyDrive\n",
        "from pydrive.auth import GoogleAuth\n",
        "from pydrive.drive import GoogleDrive\n",
        "from google.colab import auth\n",
        "from oauth2client.client import GoogleCredentials\n",
        "\n",
        "# Authenticate and create the PyDrive client.\n",
        "# This only needs to be done once per notebook.\n",
        "auth.authenticate_user()\n",
        "gauth = GoogleAuth()\n",
        "gauth.credentials = GoogleCredentials.get_application_default()\n",
        "drive = GoogleDrive(gauth)\n",
        "\n",
        "# Download a file based on its file ID.\n",
        "#\n",
        "# A file ID looks like: laggVyWshwcyP6kEI-y_W3P8D26sz\n",
        "file_id = 'REPLACE_WITH_YOUR_FILE_ID'\n",
        "downloaded = drive.CreateFile({'id': file_id})\n",
        "print('Downloaded content \"{}\"'.format(downloaded.GetContentString()))"
      ],
      "execution_count": 0,
      "outputs": []
    },
    {
      "metadata": {
        "id": "k9ch3l4ZDmNg",
        "colab_type": "code",
        "colab": {
          "base_uri": "https://localhost:8080/",
          "height": 34
        },
        "outputId": "a8e6b355-b73d-4dc6-b9c5-a5a1be34ea0a"
      },
      "cell_type": "code",
      "source": [
        "%%javascript\n",
        "const listenerChannel = new BroadcastChannel('channel');\n",
        "listenerChannel.onmessage = (msg) => {\n",
        "  const div = document.createElement('div');\n",
        "  div.textContent = msg.data;\n",
        "  document.body.appendChild(div);\n",
        "};"
      ],
      "execution_count": 0,
      "outputs": [
        {
          "output_type": "display_data",
          "data": {
            "application/javascript": [
              "const listenerChannel = new BroadcastChannel('channel');\n",
              "listenerChannel.onmessage = (msg) => {\n",
              "  const div = document.createElement('div');\n",
              "  div.textContent = msg.data;\n",
              "  document.body.appendChild(div);\n",
              "};"
            ],
            "text/plain": [
              "<IPython.core.display.Javascript object>"
            ]
          },
          "metadata": {
            "tags": []
          }
        }
      ]
    },
    {
      "metadata": {
        "id": "WdGjvMp7DmOb",
        "colab_type": "code",
        "colab": {
          "base_uri": "https://localhost:8080/",
          "height": 17
        },
        "outputId": "f3cb590b-c762-4d83-add8-c79a7bd17bee"
      },
      "cell_type": "code",
      "source": [
        "%%javascript\n",
        "const senderChannel = new BroadcastChannel('channel');\n",
        "senderChannel.postMessage('yoo you there bud');"
      ],
      "execution_count": 0,
      "outputs": [
        {
          "output_type": "display_data",
          "data": {
            "application/javascript": [
              "const senderChannel = new BroadcastChannel('channel');\n",
              "senderChannel.postMessage('yoo you there bud');"
            ],
            "text/plain": [
              "<IPython.core.display.Javascript object>"
            ]
          },
          "metadata": {
            "tags": []
          }
        }
      ]
    }
  ]
}